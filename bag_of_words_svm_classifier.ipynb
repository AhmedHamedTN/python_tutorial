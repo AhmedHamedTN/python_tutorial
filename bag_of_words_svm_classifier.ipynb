{
 "cells": [
  {
   "cell_type": "markdown",
   "metadata": {
    "collapsed": true
   },
   "source": [
    "# Simplest bag-of-words classifier, ever!"
   ]
  },
  {
   "cell_type": "code",
   "execution_count": 1,
   "metadata": {
    "collapsed": false
   },
   "outputs": [
    {
     "name": "stdout",
     "output_type": "stream",
     "text": [
      "['This is line 1', 'this is line 2', 'I am line 3']\n",
      "[' POSITIVE', ' POSITIVE', ' NEGATIVE']\n"
     ]
    }
   ],
   "source": [
    "lines=[\"This is line 1\\t POSITIVE\", \\\n",
    "       \"this is line 2\\t POSITIVE\", \\\n",
    "       \"I am line 3\\t NEGATIVE\"]\n",
    "data_x=[]\n",
    "data_y=[]\n",
    "for line in lines:\n",
    "    sent, tag = line.split(\"\\t\")\n",
    "    data_x.append(sent)\n",
    "    data_y.append(tag)\n",
    "\n",
    "print data_x\n",
    "print data_y\n",
    "    "
   ]
  },
  {
   "cell_type": "code",
   "execution_count": 3,
   "metadata": {
    "collapsed": false
   },
   "outputs": [
    {
     "name": "stdout",
     "output_type": "stream",
     "text": [
      "this 0\n",
      "is 1\n",
      "am 6\n",
      "1 3\n",
      "i 5\n",
      "3 7\n",
      "2 4\n",
      "line 2\n"
     ]
    }
   ],
   "source": [
    "from collections import defaultdict\n",
    "\n",
    "def get_word_space(data_x):\n",
    "    word_space=defaultdict(int)\n",
    "    for sent in data_x:\n",
    "        #lowercase all words\n",
    "        sent=sent.lower()\n",
    "        words=sent.split()\n",
    "        for w in words:\n",
    "            if w not in word_space:\n",
    "                word_space[w]=len(word_space)\n",
    "    return word_space\n",
    "\n",
    "#---------------------\n",
    "space =get_word_space(data_x)\n",
    "for w in space:\n",
    "    print w, space[w]\n"
   ]
  },
  {
   "cell_type": "code",
   "execution_count": 16,
   "metadata": {
    "collapsed": false
   },
   "outputs": [
    {
     "name": "stdout",
     "output_type": "stream",
     "text": [
      "[ 1.  0.  0.  0.  0.  0.  0.  0.]\n"
     ]
    }
   ],
   "source": [
    "import numpy as np\n",
    "# print x\n",
    "# print space[\"am\"]\n",
    "#x[space[\"am\"]]=1\n",
    "#print x\n",
    "sent=\"I like this\"\n",
    "def get_space(sent, space):\n",
    "    vector= np.zeros(len(space))\n",
    "    words=sent.lower().split()\n",
    "    for w in words:\n",
    "        if w in space:\n",
    "            vector[space[w]]=1\n",
    "    return vector\n",
    "\n",
    "v= get_space(\"Let's all go home this\", space)\n",
    "print v\n",
    "\n",
    "        \n",
    "    "
   ]
  },
  {
   "cell_type": "code",
   "execution_count": null,
   "metadata": {
    "collapsed": true
   },
   "outputs": [],
   "source": []
  },
  {
   "cell_type": "code",
   "execution_count": 36,
   "metadata": {
    "collapsed": false
   },
   "outputs": [
    {
     "name": "stdout",
     "output_type": "stream",
     "text": [
      "[array([ 0.,  0.,  1.,  0.,  0.,  0.,  0.,  0.]), array([ 1.,  0.,  0.,  0.,  0.,  0.,  0.,  0.])]\n"
     ]
    }
   ],
   "source": [
    "import numpy as np\n",
    "\n",
    "sentences= [\"Mapping the geographical diffusion of new words line\",\\\n",
    "\"Challenges of studying and processing This dialects in sm\"]\n",
    "\n",
    "def get_space_vec(sent, space):\n",
    "    vec= np.zeros(len(space))\n",
    "    #print vec\n",
    "    for w in sent.lower():\n",
    "        if w in space:\n",
    "            #print w, \"--->\" , space[w]\n",
    "            vec[space[w]]= 1\n",
    "    return vec\n",
    "\n",
    "data_vecs=[]\n",
    "for sent in sentences:\n",
    "    #print sent\n",
    "    sent=sent.split()\n",
    "    vector= get_space_vec(sent, space)\n",
    "    #print \"New disney vector: \",\n",
    "    #print vector\n",
    "    data_vecs.append(vector)\n",
    "\n",
    "print data_vecs"
   ]
  },
  {
   "cell_type": "code",
   "execution_count": null,
   "metadata": {
    "collapsed": true
   },
   "outputs": [],
   "source": []
  },
  {
   "cell_type": "code",
   "execution_count": null,
   "metadata": {
    "collapsed": true
   },
   "outputs": [],
   "source": []
  },
  {
   "cell_type": "code",
   "execution_count": 26,
   "metadata": {
    "collapsed": false
   },
   "outputs": [
    {
     "name": "stdout",
     "output_type": "stream",
     "text": [
      "['Hey', 'there,', 'people']\n"
     ]
    }
   ],
   "source": [
    "sent=\"Hey there, people\"\n",
    "x=sent.split()\n",
    "print x"
   ]
  },
  {
   "cell_type": "code",
   "execution_count": null,
   "metadata": {
    "collapsed": true
   },
   "outputs": [],
   "source": []
  }
 ],
 "metadata": {
  "kernelspec": {
   "display_name": "Python 2",
   "language": "python",
   "name": "python2"
  },
  "language_info": {
   "codemirror_mode": {
    "name": "ipython",
    "version": 2
   },
   "file_extension": ".py",
   "mimetype": "text/x-python",
   "name": "python",
   "nbconvert_exporter": "python",
   "pygments_lexer": "ipython2",
   "version": "2.7.11"
  }
 },
 "nbformat": 4,
 "nbformat_minor": 0
}
