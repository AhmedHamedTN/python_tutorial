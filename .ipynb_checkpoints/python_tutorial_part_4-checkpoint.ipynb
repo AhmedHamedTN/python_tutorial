{
 "cells": [
  {
   "cell_type": "markdown",
   "metadata": {
    "collapsed": true
   },
   "source": [
    "# Numpy Tutorial"
   ]
  },
  {
   "cell_type": "code",
   "execution_count": 4,
   "metadata": {
    "collapsed": false
   },
   "outputs": [
    {
     "name": "stdout",
     "output_type": "stream",
     "text": [
      "I 0\n",
      "like 1\n",
      "Pizza 2\n",
      "I 0\n",
      "like 1\n",
      "samon! 2\n"
     ]
    }
   ],
   "source": [
    "sentences=[\"POSITIVE I like Pizza\", \"NEAGTIVE I like samon!\",\\\n",
    "          \"POSITIVE I like Pizza\", \"NEAGTIVE I like samon!\",\\\n",
    "          \"POSITIVE I like Pizza\", \"NEAGTIVE I like samon!\"]\n",
    "from collections import defaultdict\n",
    "\n",
    "def get_dict(text):\n",
    "    word_dict=defaultdict(int)\n",
    "    for w in text:\n",
    "        word_dict[w]=len(word_dict)\n",
    "    return word_dict\n",
    "\n",
    "for sent in sentences[:2]:\n",
    "    label=sent.split()[0]\n",
    "    text=sent.split()[1:]\n",
    "    index_dict=get_dict(text)\n",
    "    for w in index_dict:\n",
    "        print w, index_dict[w]\n",
    "\n",
    "\n",
    "    "
   ]
  },
  {
   "cell_type": "code",
   "execution_count": 25,
   "metadata": {
    "collapsed": false
   },
   "outputs": [
    {
     "name": "stdout",
     "output_type": "stream",
     "text": [
      "<type 'list'>\n"
     ]
    }
   ],
   "source": []
  },
  {
   "cell_type": "code",
   "execution_count": 51,
   "metadata": {
    "collapsed": false
   },
   "outputs": [
    {
     "name": "stdout",
     "output_type": "stream",
     "text": [
      "['couthie', 'confidence man', 'definiteness', 'changelessness', 'morally']\n"
     ]
    }
   ],
   "source": [
    "import re\n",
    "\n",
    "def clean_lexicon():\n",
    "    positive_words= open(\"/Users/mam/CORE/TEACHING/smm/PROJECT-PROBLEMS/pos.swn.txt\", \"r\").readlines()\n",
    "    new_pos_list=[]\n",
    "    for i in positive_words[:5]:\n",
    "        i=i.strip()\n",
    "        #i= i[:-1] # i is a word in the list\n",
    "        i= re.sub(\"_\", \" \", i)\n",
    "        new_pos_list.append(i)\n",
    "    return new_pos_list\n",
    "\n",
    "my_positive_list= clean_lexicon()\n",
    "print my_positive_list[:10]"
   ]
  },
  {
   "cell_type": "code",
   "execution_count": 53,
   "metadata": {
    "collapsed": false
   },
   "outputs": [
    {
     "name": "stdout",
     "output_type": "stream",
     "text": [
      "['couthie', 'confidence man', 'definiteness', 'changelessness', 'morally', 'ethmoidal vein', 'unquestionableness', 'uselessness', 'top-quality', 'good-humoredness']\n"
     ]
    }
   ],
   "source": [
    "import re\n",
    "\n",
    "def clean_lexicon(lex_input):\n",
    "    lex_file_l=open(lex_input, \"r\").readlines()\n",
    "    \n",
    "    new_lex_file_l=[]\n",
    "    for i in lex_file_l:\n",
    "        i=i.strip()\n",
    "        #i= i[:-1] # i is a word in the list\n",
    "        i= re.sub(\"_\", \" \", i)\n",
    "        new_lex_file_l.append(i)\n",
    "    return new_lex_file_l\n",
    "\n",
    "my_positive_list= clean_lexicon(\"/Users/mam/CORE/TEACHING/smm/PROJECT-PROBLEMS/pos.swn.txt\")\n",
    "print my_positive_list[:10]\n",
    "\n",
    "my_positive_list= clean_lexicon(\"/Users/mam/CORE/TEACHING/smm/PROJECT-PROBLEMS/neg.swn.txt\")\n",
    "print my_positive_list[:10]"
   ]
  },
  {
   "cell_type": "code",
   "execution_count": null,
   "metadata": {
    "collapsed": true
   },
   "outputs": [],
   "source": []
  },
  {
   "cell_type": "code",
   "execution_count": null,
   "metadata": {
    "collapsed": true
   },
   "outputs": [],
   "source": []
  },
  {
   "cell_type": "code",
   "execution_count": 50,
   "metadata": {
    "collapsed": false
   },
   "outputs": [
    {
     "name": "stdout",
     "output_type": "stream",
     "text": [
      "## hello ##\n",
      "##hello##\n",
      "##hello##\n"
     ]
    }
   ],
   "source": [
    "import re\n",
    "s = \" hello \"\n",
    "print \"##\"+ s + \"##\"\n",
    "s2= re.sub(\" \", \"\", s)\n",
    "print \"##\"+ s2 + \"##\"\n",
    "s3=s.strip()\n",
    "print \"##\"+ s3 + \"##\""
   ]
  },
  {
   "cell_type": "code",
   "execution_count": null,
   "metadata": {
    "collapsed": true
   },
   "outputs": [],
   "source": []
  },
  {
   "cell_type": "code",
   "execution_count": null,
   "metadata": {
    "collapsed": true
   },
   "outputs": [],
   "source": []
  },
  {
   "cell_type": "code",
   "execution_count": null,
   "metadata": {
    "collapsed": true
   },
   "outputs": [],
   "source": []
  },
  {
   "cell_type": "code",
   "execution_count": null,
   "metadata": {
    "collapsed": true
   },
   "outputs": [],
   "source": []
  },
  {
   "cell_type": "code",
   "execution_count": null,
   "metadata": {
    "collapsed": true
   },
   "outputs": [],
   "source": []
  },
  {
   "cell_type": "code",
   "execution_count": null,
   "metadata": {
    "collapsed": true
   },
   "outputs": [],
   "source": []
  },
  {
   "cell_type": "code",
   "execution_count": null,
   "metadata": {
    "collapsed": true
   },
   "outputs": [],
   "source": []
  },
  {
   "cell_type": "code",
   "execution_count": null,
   "metadata": {
    "collapsed": true
   },
   "outputs": [],
   "source": []
  },
  {
   "cell_type": "code",
   "execution_count": null,
   "metadata": {
    "collapsed": true
   },
   "outputs": [],
   "source": []
  },
  {
   "cell_type": "code",
   "execution_count": null,
   "metadata": {
    "collapsed": true
   },
   "outputs": [],
   "source": []
  },
  {
   "cell_type": "code",
   "execution_count": null,
   "metadata": {
    "collapsed": true
   },
   "outputs": [],
   "source": []
  },
  {
   "cell_type": "code",
   "execution_count": null,
   "metadata": {
    "collapsed": true
   },
   "outputs": [],
   "source": []
  },
  {
   "cell_type": "code",
   "execution_count": 51,
   "metadata": {
    "collapsed": false
   },
   "outputs": [
    {
     "name": "stdout",
     "output_type": "stream",
     "text": [
      "<type 'list'>\n",
      "['couthie\\n', 'confidence_man\\n', 'definiteness\\n', 'changelessness\\n', 'morally\\n']\n",
      "5440\n",
      "Predicted Label= POSITIVE\n",
      "Predicted Label= POSITIVE\n",
      "Predicted Label= POSITIVE\n",
      "Predicted Label= POSITIVE\n",
      "Predicted Label= POSITIVE\n",
      "Predicted Label= POSITIVE\n",
      "Predicted Label= POSITIVE\n",
      "Predicted Label= POSITIVE\n",
      "Predicted Label= POSITIVE\n",
      "Predicted Label= POSITIVE\n",
      "Predicted Label= POSITIVE\n",
      "Predicted Label= POSITIVE\n",
      "Predicted Label= POSITIVE\n",
      "Predicted Label= POSITIVE\n",
      "Predicted Label= POSITIVE\n",
      "Predicted Label= POSITIVE\n",
      "Predicted Label= POSITIVE\n",
      "Predicted Label= POSITIVE\n",
      "Predicted Label= POSITIVE\n",
      "Predicted Label= POSITIVE\n",
      "Predicted Label= POSITIVE\n",
      "Predicted Label= POSITIVE\n",
      "Predicted Label= POSITIVE\n",
      "Predicted Label= POSITIVE\n",
      "Predicted Label= POSITIVE\n",
      "Predicted Label= POSITIVE\n",
      "Predicted Label= POSITIVE\n",
      "Predicted Label= POSITIVE\n",
      "Predicted Label= POSITIVE\n",
      "Predicted Label= POSITIVE\n",
      "Predicted Label= POSITIVE\n",
      "Predicted Label= POSITIVE\n",
      "Predicted Label= POSITIVE\n",
      "Predicted Label= POSITIVE\n",
      "Predicted Label= POSITIVE\n",
      "Predicted Label= POSITIVE\n",
      "Predicted Label= POSITIVE\n"
     ]
    }
   ],
   "source": [
    "lines=open(\"/Users/mam/CORE/TEACHING/smm/PROJECT-PROBLEMS/posTweets.txt\", \"r\").readlines()\n",
    "print type(lines) \n",
    "print positive_words[0:5]\n",
    "print len(positive_words)\n",
    "positive_words=positive_words#+[\"good\"]\n",
    "#print lines[0:5]\n",
    "pos_counter=0\n",
    "for line in lines:\n",
    "    for entry in positive_words:\n",
    "        #print i[:-1]\n",
    "        #break\n",
    "        if entry in line and \"never\" not in line:\n",
    "            #print i\n",
    "            pos_counter+=1\n",
    "    if pos_counter > 1:\n",
    "        print(\"Predicted Label= POSITIVE\")\n",
    "    #else: #pos_counter ==0:\n",
    "     #   print(\"No posiotive words found\")\n",
    "    pos_counter=0\n",
    "        "
   ]
  },
  {
   "cell_type": "code",
   "execution_count": null,
   "metadata": {
    "collapsed": true
   },
   "outputs": [],
   "source": []
  },
  {
   "cell_type": "code",
   "execution_count": 7,
   "metadata": {
    "collapsed": false
   },
   "outputs": [
    {
     "name": "stdout",
     "output_type": "stream",
     "text": [
      "<type 'list'>\n"
     ]
    }
   ],
   "source": [
    "x=open(\"/Users/mam/CORE/TEACHING/smm/PROJECT-PROBLEMS/posTweets.txt\", \"r\").readlines()\n",
    "print type(x) "
   ]
  },
  {
   "cell_type": "code",
   "execution_count": null,
   "metadata": {
    "collapsed": true
   },
   "outputs": [],
   "source": []
  },
  {
   "cell_type": "code",
   "execution_count": 11,
   "metadata": {
    "collapsed": false
   },
   "outputs": [
    {
     "name": "stdout",
     "output_type": "stream",
     "text": [
      "@Vivawonderwoman Got it! :)\n",
      "Riri flow on Pandora..Christmas tree all done :)\n",
      "Ah love feels so great :-)\n",
      "@stephhybb okay maybe then but the other stores usually have better ones & okay yeah come after you're done at game stop!:) def!\n",
      "@pammpimm haha gpp kok dek :) thanks yaaaa\n",
      "@katelittle_ @soph_funari @kaseycreehan @kaylaaajx3 awe Kate I love youuu <333 :)\n"
     ]
    }
   ],
   "source": [
    "for l in x[:6]:\n",
    "    print l[:-1]"
   ]
  },
  {
   "cell_type": "code",
   "execution_count": 34,
   "metadata": {
    "collapsed": false
   },
   "outputs": [
    {
     "name": "stdout",
     "output_type": "stream",
     "text": [
      "mixed tweet\t@chelvanderbaan well Idk if Thts good or bad for you ??? But its kinda nice to hear Haha :)\n",
      "\n",
      "positive tweet\n",
      "positive tweet\n",
      "positive tweet\n",
      "positive tweet\n",
      "positive tweet\n",
      "positive tweet\n",
      "positive tweet\n"
     ]
    }
   ],
   "source": [
    "lines=x[:201]\n",
    "from collections import defaultdict\n",
    "d=defaultdict(int)\n",
    "\n",
    "for l in lines:\n",
    "    if \"good\" in l and \"bad\" in l:\n",
    "        print \"mixed tweet\\t\", l\n",
    "    elif \"bad\" in l:\n",
    "        print \"negative tweet\"\n",
    "    elif \"good\" in l:\n",
    "        print \"positive tweet\"\n",
    "    else:\n",
    "        pass #print \"\\t\\tobjective tweet\""
   ]
  },
  {
   "cell_type": "code",
   "execution_count": null,
   "metadata": {
    "collapsed": true
   },
   "outputs": [],
   "source": []
  },
  {
   "cell_type": "code",
   "execution_count": 37,
   "metadata": {
    "collapsed": false
   },
   "outputs": [
    {
     "name": "stdout",
     "output_type": "stream",
     "text": [
      "1\n",
      "2\n",
      "3\n",
      "4\n",
      "5\n",
      "6\n",
      "7\n",
      "8\n",
      "9\n",
      "10\n",
      "11\n",
      "12\n"
     ]
    }
   ],
   "source": [
    "x=open(\"~/Desktop/posTweets.txt\", \"r\").readlines()\n",
    "lines=x[:201]\n",
    "from collections import defaultdict\n",
    "d=defaultdict(int)\n",
    "\n",
    "pos_lex=[\"good\", \"fantastic\", \"wonderful\", \"great\", \"fascinating\", \"pizza\"]\n",
    "neg_lex=[\"bad\", \"ugly\", \"boring\", \"disguting\", \"lazy\"]\n",
    "\n",
    "count_pos=0\n",
    "\n",
    "for l in lines:\n",
    "    for entry in pos_lex:\n",
    "        if entry in l:\n",
    "            count_pos+=1\n",
    "            print count_pos #entry, lines.index(l)\n",
    "    count_pos=0\n"
   ]
  },
  {
   "cell_type": "code",
   "execution_count": null,
   "metadata": {
    "collapsed": true
   },
   "outputs": [],
   "source": []
  },
  {
   "cell_type": "code",
   "execution_count": null,
   "metadata": {
    "collapsed": true
   },
   "outputs": [],
   "source": [
    "æ"
   ]
  },
  {
   "cell_type": "code",
   "execution_count": null,
   "metadata": {
    "collapsed": true
   },
   "outputs": [],
   "source": []
  },
  {
   "cell_type": "code",
   "execution_count": null,
   "metadata": {
    "collapsed": true
   },
   "outputs": [],
   "source": [
    "    if pos_lex in l and neg_lex in l:\n",
    "        print \"mixed tweet\\t\", l\n",
    "    elif neg_lex in l:\n",
    "        print \"negative tweet\"\n",
    "    elif pos_lex in l:\n",
    "        print \"positive tweet\"\n",
    "    else:\n",
    "        print \"\\t\\tobjective tweet\""
   ]
  },
  {
   "cell_type": "code",
   "execution_count": null,
   "metadata": {
    "collapsed": true
   },
   "outputs": [],
   "source": []
  },
  {
   "cell_type": "code",
   "execution_count": null,
   "metadata": {
    "collapsed": true
   },
   "outputs": [],
   "source": []
  },
  {
   "cell_type": "code",
   "execution_count": null,
   "metadata": {
    "collapsed": true
   },
   "outputs": [],
   "source": []
  },
  {
   "cell_type": "code",
   "execution_count": null,
   "metadata": {
    "collapsed": true
   },
   "outputs": [],
   "source": []
  },
  {
   "cell_type": "code",
   "execution_count": null,
   "metadata": {
    "collapsed": true
   },
   "outputs": [],
   "source": []
  },
  {
   "cell_type": "code",
   "execution_count": null,
   "metadata": {
    "collapsed": true
   },
   "outputs": [],
   "source": []
  },
  {
   "cell_type": "code",
   "execution_count": null,
   "metadata": {
    "collapsed": true
   },
   "outputs": [],
   "source": []
  },
  {
   "cell_type": "code",
   "execution_count": null,
   "metadata": {
    "collapsed": true
   },
   "outputs": [],
   "source": []
  },
  {
   "cell_type": "code",
   "execution_count": null,
   "metadata": {
    "collapsed": true
   },
   "outputs": [],
   "source": []
  },
  {
   "cell_type": "code",
   "execution_count": null,
   "metadata": {
    "collapsed": true
   },
   "outputs": [],
   "source": []
  },
  {
   "cell_type": "code",
   "execution_count": null,
   "metadata": {
    "collapsed": true
   },
   "outputs": [],
   "source": []
  },
  {
   "cell_type": "code",
   "execution_count": null,
   "metadata": {
    "collapsed": true
   },
   "outputs": [],
   "source": []
  },
  {
   "cell_type": "code",
   "execution_count": null,
   "metadata": {
    "collapsed": true
   },
   "outputs": [],
   "source": []
  },
  {
   "cell_type": "code",
   "execution_count": null,
   "metadata": {
    "collapsed": true
   },
   "outputs": [],
   "source": []
  },
  {
   "cell_type": "code",
   "execution_count": null,
   "metadata": {
    "collapsed": true
   },
   "outputs": [],
   "source": []
  },
  {
   "cell_type": "code",
   "execution_count": null,
   "metadata": {
    "collapsed": true
   },
   "outputs": [],
   "source": []
  },
  {
   "cell_type": "code",
   "execution_count": null,
   "metadata": {
    "collapsed": true
   },
   "outputs": [],
   "source": []
  },
  {
   "cell_type": "code",
   "execution_count": null,
   "metadata": {
    "collapsed": true
   },
   "outputs": [],
   "source": []
  },
  {
   "cell_type": "code",
   "execution_count": null,
   "metadata": {
    "collapsed": true
   },
   "outputs": [],
   "source": []
  },
  {
   "cell_type": "code",
   "execution_count": null,
   "metadata": {
    "collapsed": true
   },
   "outputs": [],
   "source": []
  },
  {
   "cell_type": "code",
   "execution_count": null,
   "metadata": {
    "collapsed": true
   },
   "outputs": [],
   "source": []
  },
  {
   "cell_type": "code",
   "execution_count": null,
   "metadata": {
    "collapsed": true
   },
   "outputs": [],
   "source": []
  },
  {
   "cell_type": "code",
   "execution_count": null,
   "metadata": {
    "collapsed": true
   },
   "outputs": [],
   "source": []
  },
  {
   "cell_type": "code",
   "execution_count": null,
   "metadata": {
    "collapsed": true
   },
   "outputs": [],
   "source": []
  },
  {
   "cell_type": "code",
   "execution_count": null,
   "metadata": {
    "collapsed": true
   },
   "outputs": [],
   "source": []
  },
  {
   "cell_type": "code",
   "execution_count": null,
   "metadata": {
    "collapsed": true
   },
   "outputs": [],
   "source": []
  },
  {
   "cell_type": "code",
   "execution_count": null,
   "metadata": {
    "collapsed": true
   },
   "outputs": [],
   "source": []
  },
  {
   "cell_type": "code",
   "execution_count": null,
   "metadata": {
    "collapsed": true
   },
   "outputs": [],
   "source": []
  },
  {
   "cell_type": "code",
   "execution_count": null,
   "metadata": {
    "collapsed": true
   },
   "outputs": [],
   "source": []
  },
  {
   "cell_type": "code",
   "execution_count": null,
   "metadata": {
    "collapsed": true
   },
   "outputs": [],
   "source": []
  },
  {
   "cell_type": "code",
   "execution_count": null,
   "metadata": {
    "collapsed": true
   },
   "outputs": [],
   "source": []
  },
  {
   "cell_type": "code",
   "execution_count": null,
   "metadata": {
    "collapsed": true
   },
   "outputs": [],
   "source": [
    "# if you meet a positive word or more AND a negative word or more --> MIXED\n",
    "# elif you meet a positive word or more, predict \"POSITIVE\"\n",
    "# elif you meet a neg word or more, predict \"NEGATIVE\"\n",
    "# else, predict \"OBJ\""
   ]
  },
  {
   "cell_type": "code",
   "execution_count": null,
   "metadata": {
    "collapsed": true
   },
   "outputs": [],
   "source": []
  },
  {
   "cell_type": "code",
   "execution_count": null,
   "metadata": {
    "collapsed": true
   },
   "outputs": [],
   "source": []
  },
  {
   "cell_type": "code",
   "execution_count": null,
   "metadata": {
    "collapsed": true
   },
   "outputs": [],
   "source": []
  },
  {
   "cell_type": "code",
   "execution_count": null,
   "metadata": {
    "collapsed": true
   },
   "outputs": [],
   "source": []
  },
  {
   "cell_type": "code",
   "execution_count": null,
   "metadata": {
    "collapsed": true
   },
   "outputs": [],
   "source": []
  },
  {
   "cell_type": "code",
   "execution_count": null,
   "metadata": {
    "collapsed": true
   },
   "outputs": [],
   "source": []
  },
  {
   "cell_type": "code",
   "execution_count": null,
   "metadata": {
    "collapsed": true
   },
   "outputs": [],
   "source": []
  },
  {
   "cell_type": "code",
   "execution_count": null,
   "metadata": {
    "collapsed": true
   },
   "outputs": [],
   "source": []
  },
  {
   "cell_type": "code",
   "execution_count": null,
   "metadata": {
    "collapsed": true
   },
   "outputs": [],
   "source": []
  },
  {
   "cell_type": "code",
   "execution_count": null,
   "metadata": {
    "collapsed": true
   },
   "outputs": [],
   "source": []
  },
  {
   "cell_type": "code",
   "execution_count": null,
   "metadata": {
    "collapsed": true
   },
   "outputs": [],
   "source": []
  },
  {
   "cell_type": "code",
   "execution_count": null,
   "metadata": {
    "collapsed": true
   },
   "outputs": [],
   "source": []
  },
  {
   "cell_type": "code",
   "execution_count": null,
   "metadata": {
    "collapsed": true
   },
   "outputs": [],
   "source": []
  },
  {
   "cell_type": "code",
   "execution_count": null,
   "metadata": {
    "collapsed": true
   },
   "outputs": [],
   "source": []
  },
  {
   "cell_type": "code",
   "execution_count": 10,
   "metadata": {
    "collapsed": false
   },
   "outputs": [
    {
     "name": "stdout",
     "output_type": "stream",
     "text": [
      "axz\n"
     ]
    }
   ],
   "source": [
    "l=[\"axz\\n\", \"b\"]\n",
    "print l[0][:-1]"
   ]
  },
  {
   "cell_type": "code",
   "execution_count": null,
   "metadata": {
    "collapsed": true
   },
   "outputs": [],
   "source": []
  },
  {
   "cell_type": "code",
   "execution_count": null,
   "metadata": {
    "collapsed": true
   },
   "outputs": [],
   "source": []
  },
  {
   "cell_type": "code",
   "execution_count": null,
   "metadata": {
    "collapsed": true
   },
   "outputs": [],
   "source": []
  },
  {
   "cell_type": "code",
   "execution_count": null,
   "metadata": {
    "collapsed": true
   },
   "outputs": [],
   "source": []
  },
  {
   "cell_type": "code",
   "execution_count": null,
   "metadata": {
    "collapsed": true
   },
   "outputs": [],
   "source": []
  },
  {
   "cell_type": "code",
   "execution_count": null,
   "metadata": {
    "collapsed": true
   },
   "outputs": [],
   "source": []
  },
  {
   "cell_type": "code",
   "execution_count": null,
   "metadata": {
    "collapsed": true
   },
   "outputs": [],
   "source": []
  },
  {
   "cell_type": "code",
   "execution_count": 3,
   "metadata": {
    "collapsed": false
   },
   "outputs": [
    {
     "name": "stdout",
     "output_type": "stream",
     "text": [
      "<type 'numpy.ndarray'>\n",
      "a --> [2 3 4 5]\n",
      "b --> [5 6 7 8]\n",
      "a+b --> [ 7  9 11 13]\n"
     ]
    }
   ],
   "source": [
    "from numpy import *\n",
    "#from numpy import array\n",
    "import numpy as np\n",
    "a= array([2,3,4,5])\n",
    "b=array((5,6,7,8))\n",
    "print type(a)\n",
    "print \"a -->\", a\n",
    "print \"b -->\", b\n",
    "print \"a+b -->\", a+b\n"
   ]
  },
  {
   "cell_type": "code",
   "execution_count": 4,
   "metadata": {
    "collapsed": false
   },
   "outputs": [
    {
     "name": "stdout",
     "output_type": "stream",
     "text": [
      "This will give an error!!!\n",
      "a+c -->"
     ]
    },
    {
     "ename": "ValueError",
     "evalue": "operands could not be broadcast together with shapes (4,) (6,) ",
     "output_type": "error",
     "traceback": [
      "\u001b[0;31m---------------------------------------------------------------------------\u001b[0m",
      "\u001b[0;31mValueError\u001b[0m                                Traceback (most recent call last)",
      "\u001b[0;32m<ipython-input-4-5f9c99476f2e>\u001b[0m in \u001b[0;36m<module>\u001b[0;34m()\u001b[0m\n\u001b[1;32m      2\u001b[0m \u001b[0mc\u001b[0m\u001b[0;34m=\u001b[0m\u001b[0marray\u001b[0m\u001b[0;34m(\u001b[0m\u001b[0;34m[\u001b[0m\u001b[0;36m5\u001b[0m\u001b[0;34m,\u001b[0m\u001b[0;36m8\u001b[0m\u001b[0;34m,\u001b[0m\u001b[0;36m8\u001b[0m\u001b[0;34m,\u001b[0m\u001b[0;36m9\u001b[0m\u001b[0;34m,\u001b[0m\u001b[0;36m5\u001b[0m\u001b[0;34m,\u001b[0m\u001b[0;36m2\u001b[0m\u001b[0;34m]\u001b[0m\u001b[0;34m)\u001b[0m\u001b[0;34m\u001b[0m\u001b[0m\n\u001b[1;32m      3\u001b[0m \u001b[0;32mprint\u001b[0m \u001b[0;34m\"This will give an error!!!\"\u001b[0m\u001b[0;34m\u001b[0m\u001b[0m\n\u001b[0;32m----> 4\u001b[0;31m \u001b[0;32mprint\u001b[0m \u001b[0;34m\"a+c -->\"\u001b[0m\u001b[0;34m,\u001b[0m \u001b[0ma\u001b[0m\u001b[0;34m+\u001b[0m\u001b[0mc\u001b[0m\u001b[0;34m\u001b[0m\u001b[0m\n\u001b[0m",
      "\u001b[0;31mValueError\u001b[0m: operands could not be broadcast together with shapes (4,) (6,) "
     ]
    }
   ],
   "source": [
    "# You can only add arrays of the same shape / equal length:\n",
    "c=array([5,8,8,9,5,2])\n",
    "print \"This will give an error!!!\"\n",
    "print \"a+c -->\", a+c"
   ]
  },
  {
   "cell_type": "code",
   "execution_count": 19,
   "metadata": {
    "collapsed": false
   },
   "outputs": [
    {
     "name": "stdout",
     "output_type": "stream",
     "text": [
      "a+1 --> [3 4 5 6]\n"
     ]
    }
   ],
   "source": [
    "# broadcasting\n",
    "# If you add an array to a scalar, the scalar gets broadcast across all the array elements\n",
    "print \"a+1 -->\", a+1\n",
    "# Now you can broadcast arrays and so you can add arrays of different shapes..."
   ]
  },
  {
   "cell_type": "code",
   "execution_count": 6,
   "metadata": {
    "collapsed": false
   },
   "outputs": [
    {
     "name": "stdout",
     "output_type": "stream",
     "text": [
      "Printing array x:  [[ 1.  2.  3.  4.]\n",
      " [ 5.  6.  7.  8.]] \n",
      "\n",
      "\"Shape of array x is:\"  (2, 4) \n",
      "\n",
      "\"Value at x[0][1] is:\"  2.0\n"
     ]
    }
   ],
   "source": [
    "import numpy as np\n",
    "x= np.array([[1, 2, 3, 4], [5, 6, 7, 8]], dtype=np.float32)\n",
    "print \"Printing array x: \", x,\"\\n\"\n",
    "print \"\\\"Shape of array x is:\\\" \", x.shape,\"\\n\"\n",
    "print \"\\\"Value at x[0][1] is:\\\" \", x[0][1] # gives row0, c1  --> we start index from zero!"
   ]
  },
  {
   "cell_type": "code",
   "execution_count": 7,
   "metadata": {
    "collapsed": false
   },
   "outputs": [
    {
     "name": "stdout",
     "output_type": "stream",
     "text": [
      "[ 1  1 -2]\n"
     ]
    }
   ],
   "source": [
    "x=np.array([1, 3, 5, 6])\n",
    "y=np.array([1,2,3,1])\n",
    "d=y[1:]-y[:-1]\n",
    "print d\n",
    "# This runs in C, the loop happens in C, so it's fast.\n",
    "# It doesn't matter what shape y is. So, it can be a very big array."
   ]
  },
  {
   "cell_type": "code",
   "execution_count": 8,
   "metadata": {
    "collapsed": false
   },
   "outputs": [
    {
     "name": "stdout",
     "output_type": "stream",
     "text": [
      "14\n",
      "[ 2  5  9 14]\n"
     ]
    }
   ],
   "source": [
    "print sum(a)\n",
    "# cumsum adds every emelement to the previous element\n",
    "print cumsum(a)"
   ]
  },
  {
   "cell_type": "code",
   "execution_count": 35,
   "metadata": {
    "collapsed": false
   },
   "outputs": [
    {
     "name": "stdout",
     "output_type": "stream",
     "text": [
      "-------------------\n",
      "[0 1 2]\n",
      "[ 0.  1.  2.]\n",
      "-------------------\n",
      "[2 3 4 5 6]\n",
      "-------------------\n",
      "[2 4 6]\n",
      "-------------------\n",
      "[  100.           215.443469     464.15888336  1000.        ]\n"
     ]
    }
   ],
   "source": [
    "import numpy as np\n",
    "#numpy.arange: http://docs.scipy.org/doc/numpy/reference/generated/numpy.arange.html\n",
    "\"\"\"\n",
    "numpy.arange([start, ]stop, [step, ]dtype=None)\n",
    "    Return evenly spaced values within a given interval.\n",
    "    Values are generated within the half-open interval [start, stop) (in other words, the interval including\n",
    "    start but excluding stop). For integer arguments the function is equivalent to the Python built-in range\n",
    "    function, but returns an ndarray rather than a list.\n",
    "\"\"\"\n",
    "print \"-------------------\"\n",
    "print np.arange(3)\n",
    "print np.arange(3.0)\n",
    "print \"-------------------\"\n",
    "print np.arange(2,7)\n",
    "print \"-------------------\"\n",
    "print np.arange(2,7, 2)\n",
    "print \"-------------------\""
   ]
  },
  {
   "cell_type": "code",
   "execution_count": 5,
   "metadata": {
    "collapsed": false
   },
   "outputs": [
    {
     "name": "stdout",
     "output_type": "stream",
     "text": [
      " numpy.zeros\n",
      "-------------------\n",
      "[ 0.  0.  0.  0.  0.]\n",
      "-------------------\n",
      "[0 0 0 0 0 0 0 0 0 0]\n",
      "-------------------\n",
      "[[ 0.]\n",
      " [ 0.]\n",
      " [ 0.]]\n",
      "-------------------\n",
      "numpy.ones\n",
      "-------------------\n",
      "[ 1.  1.  1.  1.  1.]\n",
      "-------------------\n",
      "[ 1.0  1.0  1.0  1.0  1.0  1.0  1.0  1.0  1.0  1.0]\n",
      "-------------------\n",
      "[[ 1.]\n",
      " [ 1.]\n",
      " [ 1.]]\n",
      "-------------------\n",
      "numpy.identity\n",
      "-------------------\n",
      "[[ 1.  0.  0.  0.  0.]\n",
      " [ 0.  1.  0.  0.  0.]\n",
      " [ 0.  0.  1.  0.  0.]\n",
      " [ 0.  0.  0.  1.  0.]\n",
      " [ 0.  0.  0.  0.  1.]]\n",
      "-------------------\n"
     ]
    }
   ],
   "source": [
    "import numpy as np\n",
    "#------------------\n",
    "print \"numpy.zeros\"\n",
    "#------------------\n",
    "\"\"\"\n",
    " numpy.zeros(shape, dtype=float, order='C')¶\n",
    "    Return a new array of given shape and type, filled with zeros.\n",
    "    \n",
    "shape : int or sequence of ints\n",
    "    Shape of the new array, e.g., (2, 3) or 2.\n",
    "\"\"\"\n",
    "print \"-------------------\"\n",
    "print np.zeros(5)\n",
    "print \"-------------------\"\n",
    "print np.zeros((10,), dtype=np.int)\n",
    "print \"-------------------\"\n",
    "print np.zeros((3, 1))\n",
    "print \"-------------------\"\n",
    "#------------------\n",
    "print \"numpy.ones\"\n",
    "#------------------\n",
    "\"\"\"\n",
    " numpy.ones(shape, dtype=None, order='C')\n",
    "    Return a new array of given shape and type, filled with ones.\n",
    "\"\"\"\n",
    "print \"-------------------\"\n",
    "print np.ones(5)\n",
    "print \"-------------------\"\n",
    "print np.ones((10,), dtype=np.float128)\n",
    "print \"-------------------\"\n",
    "print np.ones((3, 1))\n",
    "print \"-------------------\"\n",
    "\n",
    "#------------------\n",
    "print \"numpy.identity\"\n",
    "#------------------\n",
    "\"\"\"\n",
    " numpy.identity(n, dtype=None)\n",
    "    Return the identity array.\n",
    "    The identity array is a square array with ones on the main diagonal.\n",
    "n : int\n",
    "    Number of rows (and columns) in n x n output.\n",
    "\"\"\"\n",
    "print \"-------------------\"\n",
    "print np.identity(5)\n",
    "print \"-------------------\"\n"
   ]
  },
  {
   "cell_type": "code",
   "execution_count": 52,
   "metadata": {
    "collapsed": false
   },
   "outputs": [
    {
     "name": "stdout",
     "output_type": "stream",
     "text": [
      "\n",
      " numpy.linspace\n",
      "[ 2.    2.25  2.5   2.75  3.  ]\n",
      "-------------------\n",
      "[ 2.   2.2  2.4  2.6  2.8]\n",
      "-------------------\n",
      "(array([ 2.  ,  2.25,  2.5 ,  2.75,  3.  ]), 0.25)\n",
      "-------------------\n",
      "\n",
      "\n",
      " numpy.logspace\n",
      "---------------------------------------------------------\n",
      "[  100.           215.443469     464.15888336  1000.        ]\n",
      "---------------------------------------------------------\n",
      "[ 4.          5.0396842   6.34960421  8.        ]\n",
      "---------------------------------------------------------\n",
      "[ 4.          4.75682846  5.65685425  6.72717132]\n",
      "---------------------------------------------------------\n"
     ]
    }
   ],
   "source": [
    "import numpy as np\n",
    "#------------------\n",
    "print \"\\n numpy.linspace\"\n",
    "#------------------\n",
    "\"\"\"\n",
    " numpy.linspace(start, stop, num=50, endpoint=True, retstep=False, dtype=None)[source]¶\n",
    "    Return evenly spaced numbers over a specified interval.\n",
    "    Returns num evenly spaced samples, calculated over the interval [start, stop].\n",
    "    The endpoint of the interval can optionally be excluded.\n",
    "    \n",
    "retstep : bool, optional\n",
    "    If True, return (samples, step), where step is the spacing between samples.\n",
    "\n",
    "http://docs.scipy.org/doc/numpy-1.10.1/reference/generated/numpy.linspace.html#numpy.linspace\n",
    "\"\"\"\n",
    "print np.linspace(2.0, 3.0, num=5)\n",
    "print \"-------------------\"\n",
    "print np.linspace(2.0, 3.0, num=5, endpoint=False)\n",
    "print \"-------------------\"\n",
    "print np.linspace(2.0, 3.0, num=5, retstep=True)\n",
    "print \"-------------------\\n\"\n",
    "#------------------\n",
    "print \"\\n numpy.logspace\"\n",
    "#------------------\n",
    "\"\"\"\n",
    " numpy.logspace(start, stop, num=50, endpoint=True, base=10.0, dtype=None)\n",
    "    Return numbers spaced evenly on a log scale.\n",
    "    In linear space, the sequence starts at base ** start (base to the power of start) \n",
    "    and ends with base ** stop (see endpoint below).\n",
    "\"\"\"\n",
    "print \"-------------------\"*3\n",
    "print np.logspace(2.0, 3.0, num=4)\n",
    "print \"-------------------\"*3\n",
    "print np.logspace(2.0, 3.0, base=2.0, num=4)\n",
    "print \"-------------------\"*3\n",
    "print np.logspace(2.0, 3.0, base=2.0, num=4, endpoint=False)\n",
    "print \"-------------------\"*3"
   ]
  }
 ],
 "metadata": {
  "kernelspec": {
   "display_name": "Python 2",
   "language": "python",
   "name": "python2"
  },
  "language_info": {
   "codemirror_mode": {
    "name": "ipython",
    "version": 2
   },
   "file_extension": ".py",
   "mimetype": "text/x-python",
   "name": "python",
   "nbconvert_exporter": "python",
   "pygments_lexer": "ipython2",
   "version": "2.7.10"
  }
 },
 "nbformat": 4,
 "nbformat_minor": 0
}
