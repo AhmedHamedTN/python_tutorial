{
 "cells": [
  {
   "cell_type": "markdown",
   "metadata": {
    "collapsed": true
   },
   "source": [
    "# Rule-Based Sentiment Classifier"
   ]
  },
  {
   "cell_type": "markdown",
   "metadata": {},
   "source": [
    "The code below was written in class, to teach simple Python concepts"
   ]
  },
  {
   "cell_type": "code",
   "execution_count": 51,
   "metadata": {
    "collapsed": false
   },
   "outputs": [
    {
     "name": "stdout",
     "output_type": "stream",
     "text": [
      "['couthie', 'confidence man', 'definiteness', 'changelessness', 'morally']\n"
     ]
    }
   ],
   "source": [
    "import re\n",
    "def clean_lexicon():\n",
    "    positive_words= open(\"/Users/mam/CORE/TEACHING/smm/PROJECT-PROBLEMS/pos.swn.txt\", \"r\").readlines()\n",
    "    new_pos_list=[]\n",
    "    for i in positive_words[:5]:\n",
    "        i=i.strip()\n",
    "        #i= i[:-1] # i is a word in the list\n",
    "        i= re.sub(\"_\", \" \", i)\n",
    "        new_pos_list.append(i)\n",
    "    return new_pos_list\n",
    "\n",
    "my_positive_list= clean_lexicon()\n",
    "print my_positive_list[:10]"
   ]
  },
  {
   "cell_type": "code",
   "execution_count": 54,
   "metadata": {
    "collapsed": false
   },
   "outputs": [
    {
     "name": "stdout",
     "output_type": "stream",
     "text": [
      "['couthie', 'confidence man', 'definiteness', 'changelessness', 'morally', 'ethmoidal vein', 'unquestionableness', 'uselessness', 'top-quality', 'good-humoredness']\n",
      "['twilight of the gods', 'rumbustious', 'screaming', 'grueling', 'inanimate', 'stern', 'changelessness', 'sugarless', 'order pseudoscorpiones', 'modest']\n"
     ]
    }
   ],
   "source": [
    "import re\n",
    "\n",
    "def clean_lexicon(lex_input):\n",
    "    lex_file_l=open(lex_input, \"r\").readlines()\n",
    "    \n",
    "    new_lex_file_l=[]\n",
    "    for i in lex_file_l:\n",
    "        i=i.strip()\n",
    "        #i= i[:-1] # i is a word in the list\n",
    "        i= re.sub(\"_\", \" \", i)\n",
    "        new_lex_file_l.append(i)\n",
    "    return new_lex_file_l\n",
    "\n",
    "my_positive_list= clean_lexicon(\"/Users/mam/CORE/TEACHING/smm/PROJECT-PROBLEMS/pos.swn.txt\")\n",
    "print my_positive_list[:10]\n",
    "\n",
    "my_positive_list= clean_lexicon(\"/Users/mam/CORE/TEACHING/smm/PROJECT-PROBLEMS/neg.swn.txt\")\n",
    "print my_positive_list[:10]"
   ]
  },
  {
   "cell_type": "code",
   "execution_count": 50,
   "metadata": {
    "collapsed": false
   },
   "outputs": [
    {
     "name": "stdout",
     "output_type": "stream",
     "text": [
      "## hello ##\n",
      "##hello##\n",
      "##hello##\n"
     ]
    }
   ],
   "source": [
    "import re\n",
    "s = \" hello \"\n",
    "print \"##\"+ s + \"##\"\n",
    "s2= re.sub(\" \", \"\", s)\n",
    "print \"##\"+ s2 + \"##\"\n",
    "s3=s.strip()\n",
    "print \"##\"+ s3 + \"##\""
   ]
  },
  {
   "cell_type": "code",
   "execution_count": 51,
   "metadata": {
    "collapsed": false
   },
   "outputs": [
    {
     "name": "stdout",
     "output_type": "stream",
     "text": [
      "<type 'list'>\n",
      "['couthie\\n', 'confidence_man\\n', 'definiteness\\n', 'changelessness\\n', 'morally\\n']\n",
      "5440\n",
      "Predicted Label= POSITIVE\n",
      "Predicted Label= POSITIVE\n",
      "Predicted Label= POSITIVE\n",
      "Predicted Label= POSITIVE\n",
      "Predicted Label= POSITIVE\n",
      "Predicted Label= POSITIVE\n",
      "Predicted Label= POSITIVE\n",
      "Predicted Label= POSITIVE\n",
      "Predicted Label= POSITIVE\n",
      "Predicted Label= POSITIVE\n",
      "Predicted Label= POSITIVE\n",
      "Predicted Label= POSITIVE\n",
      "Predicted Label= POSITIVE\n",
      "Predicted Label= POSITIVE\n",
      "Predicted Label= POSITIVE\n",
      "Predicted Label= POSITIVE\n",
      "Predicted Label= POSITIVE\n",
      "Predicted Label= POSITIVE\n",
      "Predicted Label= POSITIVE\n",
      "Predicted Label= POSITIVE\n",
      "Predicted Label= POSITIVE\n",
      "Predicted Label= POSITIVE\n",
      "Predicted Label= POSITIVE\n",
      "Predicted Label= POSITIVE\n",
      "Predicted Label= POSITIVE\n",
      "Predicted Label= POSITIVE\n",
      "Predicted Label= POSITIVE\n",
      "Predicted Label= POSITIVE\n",
      "Predicted Label= POSITIVE\n",
      "Predicted Label= POSITIVE\n",
      "Predicted Label= POSITIVE\n",
      "Predicted Label= POSITIVE\n",
      "Predicted Label= POSITIVE\n",
      "Predicted Label= POSITIVE\n",
      "Predicted Label= POSITIVE\n",
      "Predicted Label= POSITIVE\n",
      "Predicted Label= POSITIVE\n"
     ]
    }
   ],
   "source": [
    "lines=open(\"/Users/mam/CORE/TEACHING/smm/PROJECT-PROBLEMS/posTweets.txt\", \"r\").readlines()\n",
    "print type(lines) \n",
    "print positive_words[0:5]\n",
    "print len(positive_words)\n",
    "positive_words=positive_words#+[\"good\"]\n",
    "#print lines[0:5]\n",
    "pos_counter=0\n",
    "for line in lines:\n",
    "    for entry in positive_words:\n",
    "        #print i[:-1]\n",
    "        #break\n",
    "        if entry in line and \"never\" not in line:\n",
    "            #print i\n",
    "            pos_counter+=1\n",
    "    if pos_counter > 1:\n",
    "        print(\"Predicted Label= POSITIVE\")\n",
    "    #else: #pos_counter ==0:\n",
    "     #   print(\"No posiotive words found\")\n",
    "    pos_counter=0\n",
    "        "
   ]
  },
  {
   "cell_type": "code",
   "execution_count": 7,
   "metadata": {
    "collapsed": false
   },
   "outputs": [
    {
     "name": "stdout",
     "output_type": "stream",
     "text": [
      "<type 'list'>\n"
     ]
    }
   ],
   "source": [
    "x=open(\"/Users/mam/CORE/TEACHING/smm/PROJECT-PROBLEMS/posTweets.txt\", \"r\").readlines()\n",
    "print type(x) "
   ]
  },
  {
   "cell_type": "code",
   "execution_count": 11,
   "metadata": {
    "collapsed": false
   },
   "outputs": [
    {
     "name": "stdout",
     "output_type": "stream",
     "text": [
      "@Vivawonderwoman Got it! :)\n",
      "Riri flow on Pandora..Christmas tree all done :)\n",
      "Ah love feels so great :-)\n",
      "@stephhybb okay maybe then but the other stores usually have better ones & okay yeah come after you're done at game stop!:) def!\n",
      "@pammpimm haha gpp kok dek :) thanks yaaaa\n",
      "@katelittle_ @soph_funari @kaseycreehan @kaylaaajx3 awe Kate I love youuu <333 :)\n"
     ]
    }
   ],
   "source": [
    "for l in x[:6]:\n",
    "    print l[:-1]"
   ]
  },
  {
   "cell_type": "code",
   "execution_count": 34,
   "metadata": {
    "collapsed": false
   },
   "outputs": [
    {
     "name": "stdout",
     "output_type": "stream",
     "text": [
      "mixed tweet\t@chelvanderbaan well Idk if Thts good or bad for you ??? But its kinda nice to hear Haha :)\n",
      "\n",
      "positive tweet\n",
      "positive tweet\n",
      "positive tweet\n",
      "positive tweet\n",
      "positive tweet\n",
      "positive tweet\n",
      "positive tweet\n"
     ]
    }
   ],
   "source": [
    "lines=x[:201]\n",
    "from collections import defaultdict\n",
    "d=defaultdict(int)\n",
    "\n",
    "for l in lines:\n",
    "    if \"good\" in l and \"bad\" in l:\n",
    "        print \"mixed tweet\\t\", l\n",
    "    elif \"bad\" in l:\n",
    "        print \"negative tweet\"\n",
    "    elif \"good\" in l:\n",
    "        print \"positive tweet\"\n",
    "    else:\n",
    "        pass #print \"\\t\\tobjective tweet\""
   ]
  },
  {
   "cell_type": "code",
   "execution_count": 37,
   "metadata": {
    "collapsed": false
   },
   "outputs": [
    {
     "name": "stdout",
     "output_type": "stream",
     "text": [
      "1\n",
      "2\n",
      "3\n",
      "4\n",
      "5\n",
      "6\n",
      "7\n",
      "8\n",
      "9\n",
      "10\n",
      "11\n",
      "12\n"
     ]
    }
   ],
   "source": [
    "x=open(\"~/Desktop/posTweets.txt\", \"r\").readlines()\n",
    "lines=x[:201]\n",
    "from collections import defaultdict\n",
    "d=defaultdict(int)\n",
    "\n",
    "pos_lex=[\"good\", \"fantastic\", \"wonderful\", \"great\", \"fascinating\", \"pizza\"]\n",
    "neg_lex=[\"bad\", \"ugly\", \"boring\", \"disguting\", \"lazy\"]\n",
    "\n",
    "count_pos=0\n",
    "\n",
    "for l in lines:\n",
    "    for entry in pos_lex:\n",
    "        if entry in l:\n",
    "            count_pos+=1\n",
    "            print count_pos #entry, lines.index(l)\n",
    "    count_pos=0\n"
   ]
  }
 ],
 "metadata": {
  "kernelspec": {
   "display_name": "Python 2",
   "language": "python",
   "name": "python2"
  },
  "language_info": {
   "codemirror_mode": {
    "name": "ipython",
    "version": 2
   },
   "file_extension": ".py",
   "mimetype": "text/x-python",
   "name": "python",
   "nbconvert_exporter": "python",
   "pygments_lexer": "ipython2",
   "version": "2.7.10"
  }
 },
 "nbformat": 4,
 "nbformat_minor": 0
}
