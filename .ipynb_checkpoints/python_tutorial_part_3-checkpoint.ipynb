{
 "cells": [
  {
   "cell_type": "markdown",
   "metadata": {
    "collapsed": false
   },
   "source": [
    "# Visualization with Python"
   ]
  },
  {
   "cell_type": "code",
   "execution_count": null,
   "metadata": {
    "collapsed": true
   },
   "outputs": [],
   "source": [
    "%matplotlib inline\n",
    "\n",
    "import matplotlib\n",
    "import numpy as np\n",
    "import matplotlib.pyplot as plt\n",
    "from nltk.draw.dispersion import dispersion_plot\n",
    "print(text4.dispersion_plot([\"citizens\", \"democracy\", \"freedom\", \"duties\", \"America\"]))\n"
   ]
  },
  {
   "cell_type": "code",
   "execution_count": null,
   "metadata": {
    "collapsed": true
   },
   "outputs": [],
   "source": [
    "%matplotlib inline\n",
    "import matplotlib.pyplot as plt\n",
    "import numpy as np\n",
    "\n",
    "\n",
    "x = np.linspace(0, 3*np.pi, 500)\n",
    "plt.plot(x, np.sin(x**2))\n",
    "plt.title('A simple chirp');"
   ]
  },
  {
   "cell_type": "code",
   "execution_count": null,
   "metadata": {
    "collapsed": true
   },
   "outputs": [],
   "source": [
    "#!/usr/bin/python\n",
    "%matplotlib inline\n",
    "import numpy as np\n",
    "import matplotlib.pyplot as plt\n",
    "#################################\n",
    "\n",
    "###################\n",
    "# Classification confidence per class:\n",
    "#--------------------------------------\n",
    "Account=[0.50597769529107606, 0.61137631750300769, 0.67732439371970943, 0.74335210285266851, 0.78045128083006687, 0.85889268848391032, 0.86004645511688793, 0.86034494338992484, 0.86110627662083916, 0.86385229563374299, 0.8652039704758846, 0.86629669936492792, 0.86714993874468849, 0.86951104057901096, 0.87107760241792387, 0.87433969633042807, 0.87731372225510584, 0.87786812374991918, 0.87810590629205709, 0.87892633430246814, 0.87915317999299925, 0.88066216034760669, 0.88408934521227001, 0.88469154406025774, 0.88796777230531254, 0.89044129384145887, 0.90267024623065706, 0.92524363229460704]\n",
    "Alert=[0.47637448264043625, 0.66454777829823419, 0.83611243185409068, 0.84343541279259093, 0.84407692188080419, 0.84691874602073758, 0.84846838467167951, 0.84885499324244018, 0.84892085388116045, 0.85662976488218612, 0.85748220725433, 0.85766843771151779, 0.86282314473652266, 0.88306412005817692, 0.90953193806965249]\n",
    "EventUpdate=[0.60620179952905806, 0.81414035159064524, 0.83977384250581455, 0.84197728312163245, 0.84665030060369317, 0.86063170708443371, 0.86556282358318515, 0.86670240801689957, 0.86730292811655896, 0.87129628595308339, 0.87179895532552454, 0.87237623417151511]\n",
    "purchasesAndPayments= [0.70209823840705454, 0.87763882598773824, 0.87853436781994654, 0.88111290254442187, 0.88188179857430626, 0.88427555688939874, 0.88575543579520666, 0.89021547578541182, 0.89111298147392382, 0.89325185353073655, 0.89699979308063715, 0.89711891518041997, 0.90022327360644228, 0.90038922055635651, 0.90352512667392848, 0.91167136191589293, 0.91258912510512546, 0.91292772595692206, 0.91385158396318156, 0.91514777255816948, 0.91598257367845204, 0.91620376194631981, 0.91624196881789599, 0.91629208488490144, 0.91682304964064509, 0.91685424758210343, 0.91773130126105062, 0.91859239740198162, 0.91885115720464194, 0.9189813690872739, 0.91942897543635649, 0.92005261642510894, 0.92031278031339603, 0.9206131773956312, 0.92162770964147711, 0.92333172011600717, 0.92368736632287529, 0.92445312588899153, 0.92487782965565768, 0.92585645404696637, 0.92736029109282003, 0.92745082086828889, 0.92853691341173528, 0.92974148319851113, 0.93038737495076018, 0.93268166532934882, 0.93485981648392313, 0.93560689873538494, 0.93792467408291125, 0.93990750368079101, 0.94138345097080245, 0.94171127507598984, 0.94257827570703179, 0.94278726547269032, 0.94591753032286208, 0.94684854929169837, 0.94778523908566703, 0.94938466710678737, 0.9501448612157134, 0.95149247851897123, 0.95239002506270776, 0.95375471665360612, 0.95562783008800667, 0.95780240099868053, 0.9578653435017056, 0.95787837810691678, 0.95826883828494502, 0.96152066593986663, 0.96162681902834768, 0.9642282884732325, 0.96529873521893783, 0.96552974107677436, 0.96639428810283956, 0.96678961265384455, 0.96687982068407863, 0.96873869536512358, 0.96880029214978958, 0.96947401140396405, 0.97052647680045956, 0.97057034041651968]\n",
    "TrackedInfo=[0.57856804762622893, 0.84336621528774514, 0.84726630715050089, 0.84865439463077963, 0.85259413447559007, 0.85367437726360995, 0.85572529471292957, 0.85595201321671999, 0.86019342820522748, 0.86280650298103134, 0.87695710743248556, 0.88755323066381953, 0.89051154523294096, 0.89159321691228055]\n",
    "Travel=[0.83341902931726042, 0.84109694886055264, 0.84915529812154522, 0.84965845310243482, 0.85351817819423192, 0.86268823869067024, 0.87021845881088733]\n",
    "\n",
    "def createHistogram(x, cat=\"Purchases and Payments\", color='green'):\n",
    "    \"\"\"\n",
    "    Plots an individual histogram.\n",
    "    \"\"\"\n",
    "    plt.hist(x, len(x)+20, normed=1, facecolor=color, alpha=0.75)\n",
    "    plt.xlabel('Confidence')\n",
    "    #plt.ylabel('Frequency')\n",
    "    plt.title(cat)\n",
    "    plt.grid(True)\n",
    "    plt.show()\n",
    "\n",
    "def createHist(x, cat=\"Purchases and Payments\", color='green'):\n",
    "    \"\"\"\n",
    "    Used as a helper function for creating individual histograms \n",
    "    inside the subplotter\n",
    "    \"\"\"\n",
    "    plt.hist(x, len(x)+20, normed=1, facecolor=color, alpha=0.75)\n",
    "    plt.xlabel('Confidence')\n",
    "    plt.title(cat)\n",
    "    plt.grid(True)\n",
    "    \n",
    "def subplotter():\n",
    "    \"\"\"\n",
    "    Subplots several histograms...\n",
    "    \"\"\"\n",
    "    plt.figure(figsize=(15,15))\n",
    "    plt.subplot(3,3 , 1 )\n",
    "    createHist(Account, cat=\"Account\", color=np.random.rand(3))\n",
    "    plt.subplot( 3,3, 2 )\n",
    "    createHist(Alert, cat=\"Alert\", color='magenta')\n",
    "    plt.subplot( 3,3, 3 )\n",
    "    createHist(EventUpdate, cat=\"Event Update\", color=np.random.rand(3))\n",
    "    plt.subplot( 3,3, 4 )\n",
    "    createHist(purchasesAndPayments, cat=\"Purchases and Payments\", color=np.random.rand(3))  \n",
    "    plt.subplot( 3,3, 5 )\n",
    "    createHist(TrackedInfo, cat=\"Tracked Info\", color=np.random.rand(3))\n",
    "    plt.subplot( 3,3, 6 )\n",
    "    createHist(Travel, cat=\"Travel\", color='y')\n",
    "    plt.show()\n",
    "\n",
    "def main():\n",
    "    subplotter()\n",
    "    # createHist(Account, cat=\"Account\")\n",
    "    # createHist(Alert, cat=\"Alert\", color='magenta')\n",
    "    # createHist(EventUpdate, cat=\"EventUpdate\", color='blue')\n",
    "    # createHist(purchasesAndPayments, cat=\"Purchases and Payments\", color=\"red\")\n",
    "    # createHist(TrackedInfo, cat=\"TrackedInfo\", color='brown')\n",
    "    # createHist(Travel, cat=\"Travel\", color='y')\n",
    "    \n",
    "    \n",
    "if __name__ == \"__main__\":\n",
    "    main()\n",
    "\n",
    "######################################\n",
    "# This is useful: http://cs.smith.edu/dftwiki/index.php/MatPlotLib_Tutorial_1\n",
    "#---------------------------------\n",
    "# This is about color maps: http://matplotlib.org/examples/color/colormaps_reference.html\n",
    "\n",
    "# cmaps = [('Sequential',     ['Blues', 'BuGn', 'BuPu',\n",
    "#                              'GnBu', 'Greens', 'Greys', 'Oranges', 'OrRd',\n",
    "#                              'PuBu', 'PuBuGn', 'PuRd', 'Purples', 'RdPu',\n",
    "#                              'Reds', 'YlGn', 'YlGnBu', 'YlOrBr', 'YlOrRd']),\n",
    "#          ('Sequential (2)', ['afmhot', 'autumn', 'bone', 'cool', 'copper',\n",
    "#                              'gist_heat', 'gray', 'hot', 'pink',\n",
    "#                              'spring', 'summer', 'winter']),\n",
    "#          ('Diverging',      ['BrBG', 'bwr', 'coolwarm', 'PiYG', 'PRGn', 'PuOr',\n",
    "#                              'RdBu', 'RdGy', 'RdYlBu', 'RdYlGn', 'Spectral',\n",
    "#                              'seismic']),\n",
    "#          ('Qualitative',    ['Accent', 'Dark2', 'Paired', 'Pastel1',\n",
    "#                              'Pastel2', 'Set1', 'Set2', 'Set3']),\n",
    "#          ('Miscellaneous',  ['gist_earth', 'terrain', 'ocean', 'gist_stern',\n",
    "#                              'brg', 'CMRmap', 'cubehelix',\n",
    "#                              'gnuplot', 'gnuplot2', 'gist_ncar',\n",
    "#                              'nipy_spectral', 'jet', 'rainbow',\n",
    "#                              'gist_rainbow', 'hsv', 'flag', 'prism'])]"
   ]
  }
 ],
 "metadata": {
  "kernelspec": {
   "display_name": "Python 2",
   "language": "python",
   "name": "python2"
  },
  "language_info": {
   "codemirror_mode": {
    "name": "ipython",
    "version": 2
   },
   "file_extension": ".py",
   "mimetype": "text/x-python",
   "name": "python",
   "nbconvert_exporter": "python",
   "pygments_lexer": "ipython2",
   "version": "2.7.10"
  }
 },
 "nbformat": 4,
 "nbformat_minor": 0
}
