{
 "cells": [
  {
   "cell_type": "markdown",
   "metadata": {
    "collapsed": false
   },
   "source": [
    "# Quick Python Tutorial"
   ]
  },
  {
   "cell_type": "markdown",
   "metadata": {},
   "source": [
    "This tutorial should grow over time.\n",
    "Python has a number of types. You need to be familiar with some of them as a start, then you will learn about more as you go. Let's quickly investigate some of these here:"
   ]
  },
  {
   "cell_type": "markdown",
   "metadata": {},
   "source": [
    "#Integers and floats"
   ]
  },
  {
   "cell_type": "code",
   "execution_count": 231,
   "metadata": {
    "collapsed": false
   },
   "outputs": [
    {
     "name": "stdout",
     "output_type": "stream",
     "text": [
      "22\n",
      "33.33\n",
      "I am an integer/int: 22\n",
      "I am a float: 33.33\n"
     ]
    }
   ],
   "source": [
    "#---------------------\n",
    "# Integers and floats:\n",
    "#---------------------\n",
    "# You can use Python as a calculator; and when you do, you are interacting with numbers that may have \n",
    "# \"int\" or \"float\" types. Let's print these, with a \"print\" statement.\n",
    "print(22) # an integer\n",
    "print(33.33) # a float\n",
    "\n",
    "# You can print more than an object with the same print statement, if you use an \",\" (coma) in between\n",
    "# (Hint: Both the integer 22 and the float 33.33 are 'objects' in the Pyathon language.\n",
    "# They are objects of type 'int' and type 'float,' respectively)\n",
    "print \"I am an integer/int:\", 22 # an integer\n",
    "print \"I am a float:\",33.33 # a float"
   ]
  },
  {
   "cell_type": "code",
   "execution_count": 4,
   "metadata": {
    "collapsed": false
   },
   "outputs": [
    {
     "name": "stdout",
     "output_type": "stream",
     "text": [
      "1 2 3\n"
     ]
    }
   ],
   "source": [
    "# If you use a comma after the print statement/function, it will suppress\n",
    "# the new line character \"\\n\". You see it better in a \"for loop\".\n",
    "l=[1, 2, 3]\n",
    "for i in l:\n",
    "    print i,"
   ]
  },
  {
   "cell_type": "code",
   "execution_count": 1,
   "metadata": {
    "collapsed": false
   },
   "outputs": [
    {
     "name": "stdout",
     "output_type": "stream",
     "text": [
      "I am an int division: 0\n",
      "I am an float division: 0.666666666667\n"
     ]
    }
   ],
   "source": [
    "# You can perform operations on ints and floats, \n",
    "# but be cautious as to the difference between int division and float divison\n",
    "my_int= 22\n",
    "my_new_int=33\n",
    "my_float= 33.0\n",
    "print \"I am an int division:\", my_int/my_new_int\n",
    "print \"I am an float division:\", my_int/my_float\n",
    "# (Hint: We assigned the numbers to some variables above, more about 'assignment' below.\n",
    "# You can think about this just as storing something in another. It's like you put something in a box and \n",
    "# you are now just looking at the box from outside. Another metaphor is simply that you called each of the numbers a name\n",
    "# and can now interact with the numbers using these names.)"
   ]
  },
  {
   "cell_type": "code",
   "execution_count": 234,
   "metadata": {
    "collapsed": false
   },
   "outputs": [
    {
     "data": {
      "text/plain": [
       "2.0"
      ]
     },
     "execution_count": 234,
     "metadata": {},
     "output_type": "execute_result"
    }
   ],
   "source": [
    "#You can use the \"float\" function:\n",
    "20/float(10)"
   ]
  },
  {
   "cell_type": "code",
   "execution_count": 256,
   "metadata": {
    "collapsed": false
   },
   "outputs": [
    {
     "name": "stdout",
     "output_type": "stream",
     "text": [
      "22 S. Walnut St.\n",
      "('This is the list', [1, 2, 3, 3, 4])\n",
      "('This is the set', set([1, 2, 3, 4]))\n"
     ]
    }
   ],
   "source": [
    "# Side note:\n",
    "# There are also other built-in functions for type-casting \n",
    "# Casting an int into a string:\n",
    "address= str(22)+\" S. Walnut St.\"\n",
    "print(address)\n",
    "# Casting a list into a set:\n",
    "num_list=[1, 2, 3, 3, 4]\n",
    "print(\"This is the list\", num_list)\n",
    "num_set=set(num_list)\n",
    "print(\"This is the set\",num_set)"
   ]
  },
  {
   "cell_type": "markdown",
   "metadata": {
    "collapsed": true
   },
   "source": [
    "# Strings"
   ]
  },
  {
   "cell_type": "code",
   "execution_count": 4,
   "metadata": {
    "collapsed": false
   },
   "outputs": [
    {
     "name": "stdout",
     "output_type": "stream",
     "text": [
      "Hello world\n"
     ]
    }
   ],
   "source": [
    "#--------\n",
    "# String:\n",
    "#--------\n",
    "# The string type is for characters like \"Hello world\". We can print this string:\n",
    "print \"Hello world\""
   ]
  },
  {
   "cell_type": "code",
   "execution_count": 2,
   "metadata": {
    "collapsed": false
   },
   "outputs": [
    {
     "name": "stdout",
     "output_type": "stream",
     "text": [
      "Hello world\n"
     ]
    }
   ],
   "source": [
    "# The above is called a print statement. We can assign the string to a variable\n",
    "greeting = \"Hello world\"\n",
    "# We cann the word \"greeting\" a \"variable\" and the string \"Hello world\" a value. \n",
    "# What we did is \"assign\" the value \"Hello world\" to the variable \"greeting\".\n",
    "# The \"=\" is called an operator and we use it for \"assignment\". (This is important!)\n",
    "# We can now print \"grreting\"\n",
    "print greeting"
   ]
  },
  {
   "cell_type": "code",
   "execution_count": 5,
   "metadata": {
    "collapsed": false
   },
   "outputs": [
    {
     "name": "stdout",
     "output_type": "stream",
     "text": [
      "The type of the variable:  <type 'str'>\n",
      "The type of the value:  14\n"
     ]
    }
   ],
   "source": [
    "# For another example, we can assign another string value to another variable:\n",
    "feeling=\"I love Python!\"\n",
    "# Since you love Python, it loves you back and so gives you a number of \"built-in\" functions to work with. \n",
    "# For more about these take a look here: https://docs.python.org/2/library/functions.html\n",
    "# For example, the \"type()\" function tells us about the type of an object. \n",
    "# Similarly, the \"len()\" function opertates in some objects, like strings, \n",
    "# and tells us about their length in characters:\n",
    "print \"The type of the variable: \", type(feeling)\n",
    "print \"The type of the value: \", len(feeling)"
   ]
  },
  {
   "cell_type": "markdown",
   "metadata": {},
   "source": [
    "# Lists"
   ]
  },
  {
   "cell_type": "code",
   "execution_count": 247,
   "metadata": {
    "collapsed": false
   },
   "outputs": [
    {
     "name": "stdout",
     "output_type": "stream",
     "text": [
      "I'm an empty list []\n",
      "I'm list of string items ['Python', 'Lua', 'Java']\n",
      "I'm list of numbers [44, 11, 55]\n",
      "I'm list of string items and numbers ['Hello', 88, 4.0, 'Hey there!']\n",
      "I'm list of string items and numbers, and an internal list ['Hello', 88, 4.0, 'Hey there!', ['a', 'z']]\n"
     ]
    }
   ],
   "source": [
    "#--------\n",
    "# List:\n",
    "#--------\n",
    "# A list is another Python data type where you can store and access your data with a lot of flexibility.\n",
    "# The list is a square-bracketed, comma-separated sequence of items.\n",
    "# So, to create a list, you use square brakets.\n",
    "# This is an empty list:\n",
    "my_first_list=[]\n",
    "print \"I'm an empty list\", my_first_list\n",
    "# Items in a list can be strings, or numbers, or a mixture\n",
    "words=[\"Python\", \"Lua\", \"Java\"]\n",
    "numbs= [44, 11, 55] \n",
    "words_and_numbs= [\"Hello\", 88, 4.0, \"Hey there!\"]\n",
    "print \"I'm list of string items\", words\n",
    "print \"I'm list of numbers\", numbs\n",
    "print \"I'm list of string items and numbers\", words_and_numbs\n",
    "words_and_numbs_and_internal_list= [\"Hello\", 88, 4.0, \"Hey there!\", [\"a\", \"z\"]]\n",
    "print \"I'm list of string items and numbers, and an internal list\",\\\n",
    "       words_and_numbs_and_list"
   ]
  },
  {
   "cell_type": "code",
   "execution_count": 10,
   "metadata": {
    "collapsed": false
   },
   "outputs": [
    {
     "data": {
      "text/plain": [
       "'z'"
      ]
     },
     "execution_count": 10,
     "metadata": {},
     "output_type": "execute_result"
    }
   ],
   "source": [
    "# Accessing an item from an internal list, directly:\n",
    "[\"Hello\", 88, 4.0, \"Hey there!\", [\"a\", \"z\"]][-1][-1]"
   ]
  },
  {
   "cell_type": "code",
   "execution_count": 272,
   "metadata": {
    "collapsed": false
   },
   "outputs": [
    {
     "data": {
      "text/plain": [
       "'a'"
      ]
     },
     "execution_count": 272,
     "metadata": {},
     "output_type": "execute_result"
    }
   ],
   "source": [
    "# Here's the same as above, a bit unfolded:\n",
    "x=[\"Hello\", 88, 4.0, \"Hey there!\", [\"a\", \"z\"]]\n",
    "internal=x[-1]\n",
    "internal[0]"
   ]
  },
  {
   "cell_type": "code",
   "execution_count": 275,
   "metadata": {
    "collapsed": false
   },
   "outputs": [
    {
     "data": {
      "text/plain": [
       "'a'"
      ]
     },
     "execution_count": 275,
     "metadata": {},
     "output_type": "execute_result"
    }
   ],
   "source": [
    "# One more example:\n",
    "[\"Hello\", 88, 4.0, \"Hey there!\", [\"a\", \"z\"]][4][-2]"
   ]
  },
  {
   "cell_type": "code",
   "execution_count": 278,
   "metadata": {
    "collapsed": false
   },
   "outputs": [
    {
     "name": "stdout",
     "output_type": "stream",
     "text": [
      "3\n",
      "This is the first item in the list, and its index is zero Apple\n",
      "This is the last item in the list Facebook\n",
      "Pay him 3000 $\n"
     ]
    }
   ],
   "source": [
    "# Length of a list, and more on indexing and slicing:\n",
    "#----------------------------------------------------\n",
    "# Similar to a string, you can get the length of a list:\n",
    "tech_comp=[\"Apple\", \"Google\", \"Facebook\"]\n",
    "print len(tech_comp)\n",
    "# You can also slice from a list, using the bractets with an integer index.\n",
    "# Notice: we start from index \"zero\".\n",
    "print \"This is the first item in the list, and its index is zero\", tech_comp[0]\n",
    "# You can also access a list from the end, with a minus index\n",
    "print \"This is the last item in the list\", tech_comp[-1]\n"
   ]
  },
  {
   "cell_type": "code",
   "execution_count": 9,
   "metadata": {
    "collapsed": false
   },
   "outputs": [
    {
     "name": "stdout",
     "output_type": "stream",
     "text": [
      "This is my first tuple:  ('Tiger', 'Lion', 'Monkey')\n"
     ]
    }
   ],
   "source": [
    "# Tuples:\n",
    "#--------\n",
    "# A tuple is like a list, but its items are immutable/unchangeable.\n",
    "# The syntax is different in that the tuple employs the parathenses \"()\"\n",
    "my_animals_tuple=(\"Tiger\", \"Lion\", \"Monkey\")\n",
    "print \"This is my first tuple: \", my_tuple"
   ]
  },
  {
   "cell_type": "code",
   "execution_count": 16,
   "metadata": {
    "collapsed": false
   },
   "outputs": [
    {
     "name": "stdout",
     "output_type": "stream",
     "text": [
      "My list before changes:  ['Tiger', 'Lion', 'Monkey']\n",
      "My list after changes:  ['Goat', 'Lion', 'Monkey']\n"
     ]
    }
   ],
   "source": [
    "# So you can change an item in a list, but not in a tuple:\n",
    "my_animals_list=[\"Tiger\", \"Lion\", \"Monkey\"]\n",
    "print \"My list before changes: \", my_animals_list\n",
    "my_animals_list[0]=\"Goat\"\n",
    "print \"My list after changes: \", my_animals_list\n"
   ]
  },
  {
   "cell_type": "code",
   "execution_count": 3,
   "metadata": {
    "collapsed": false
   },
   "outputs": [
    {
     "name": "stdout",
     "output_type": "stream",
     "text": [
      "This will give an error!!!\n"
     ]
    },
    {
     "ename": "NameError",
     "evalue": "name 'my_tuple' is not defined",
     "output_type": "error",
     "traceback": [
      "\u001b[0;31m---------------------------------------------------------------------------\u001b[0m",
      "\u001b[0;31mNameError\u001b[0m                                 Traceback (most recent call last)",
      "\u001b[0;32m<ipython-input-3-4ca48f5bd7d9>\u001b[0m in \u001b[0;36m<module>\u001b[0;34m()\u001b[0m\n\u001b[1;32m      1\u001b[0m \u001b[0;31m# Trying to change this will give an error:\u001b[0m\u001b[0;34m\u001b[0m\u001b[0;34m\u001b[0m\u001b[0m\n\u001b[1;32m      2\u001b[0m \u001b[0;32mprint\u001b[0m \u001b[0;34m\"This will give an error!!!\"\u001b[0m\u001b[0;34m\u001b[0m\u001b[0m\n\u001b[0;32m----> 3\u001b[0;31m \u001b[0mmy_tuple\u001b[0m\u001b[0;34m[\u001b[0m\u001b[0;36m0\u001b[0m\u001b[0;34m]\u001b[0m\u001b[0;34m=\u001b[0m\u001b[0;34m\"Goat\"\u001b[0m\u001b[0;34m\u001b[0m\u001b[0m\n\u001b[0m",
      "\u001b[0;31mNameError\u001b[0m: name 'my_tuple' is not defined"
     ]
    }
   ],
   "source": [
    "# Trying to change this will give an error:\n",
    "print \"This will give an error!!!\"\n",
    "my_tuple[0]=\"Goat\""
   ]
  },
  {
   "cell_type": "code",
   "execution_count": 2,
   "metadata": {
    "collapsed": false
   },
   "outputs": [
    {
     "name": "stdout",
     "output_type": "stream",
     "text": [
      "('z', 'b')\n"
     ]
    }
   ],
   "source": [
    "# You can cast a tuple to a list and make the change, and cast back to a tuple!\n",
    "t=(\"a\", \"b\")\n",
    "l=list(t)\n",
    "l[0]=\"z\"\n",
    "t=tuple(l)\n",
    "print t"
   ]
  },
  {
   "cell_type": "markdown",
   "metadata": {
    "collapsed": true
   },
   "source": [
    "# Dictionaries"
   ]
  },
  {
   "cell_type": "code",
   "execution_count": 4,
   "metadata": {
    "collapsed": false
   },
   "outputs": [
    {
     "name": "stdout",
     "output_type": "stream",
     "text": [
      "Printing the 'students' dict:  {777: 'Mary', 1111: 'John'}\n",
      "The length of the 'students' dict is:  2\n",
      "The value of the key 777 in the 'students' dict is:  Mary\n",
      "{777: 'Mary', 555: 'Maggi', 1111: 'John'}\n",
      "Maggi\n"
     ]
    }
   ],
   "source": [
    "# A Ptthon dictionary is a \"mapping\" type. We map a \"key\" to a \"value\".\n",
    "# For example, we can map a \"student_id\" to the \"name\" of a student.\n",
    "# The sytax is simple: We use the curly braces, and delimit each key:value pair by the \"colon\"\n",
    "students={1111: \"John\", 777: \"Mary\"}\n",
    "print \"Printing the 'students' dict: \", students\n",
    "print \"The length of the 'students' dict is: \", len(students)\n",
    "# This is how you access the value of the key 777\n",
    "print \"The value of the key 777 in the 'students' dict is: \", students[777]\n",
    "students[555]=\"Maggi\"\n",
    "print students\n",
    "print students[555]"
   ]
  },
  {
   "cell_type": "code",
   "execution_count": 24,
   "metadata": {
    "collapsed": false
   },
   "outputs": [
    {
     "name": "stdout",
     "output_type": "stream",
     "text": [
      "{777: 'Mary', 555: 'Maggi', 1111: 'John'}\n"
     ]
    }
   ],
   "source": [
    "my_dict={777: 'Mary', 555: 'Maggi', 1111: 'John'}\n",
    "my_dict[\"XYZ\"]=\"___\"\n",
    "#delete an item in the dict\n",
    "del my_dict[\"XYZ\"]\n",
    "\n",
    "print my_dict"
   ]
  },
  {
   "cell_type": "code",
   "execution_count": 3,
   "metadata": {
    "collapsed": false
   },
   "outputs": [
    {
     "name": "stdout",
     "output_type": "stream",
     "text": [
      "['a', 'b', 'c']\n"
     ]
    },
    {
     "data": {
      "text/plain": [
       "'a'"
      ]
     },
     "execution_count": 3,
     "metadata": {},
     "output_type": "execute_result"
    }
   ],
   "source": [
    "l=[\"a\", \"b\"]\n",
    "l.append(\"c\")\n",
    "print l\n",
    "l[0]"
   ]
  },
  {
   "cell_type": "code",
   "execution_count": 6,
   "metadata": {
    "collapsed": false
   },
   "outputs": [
    {
     "name": "stdout",
     "output_type": "stream",
     "text": [
      "The value of the key 'CS' in the 'students' dict is:  ['John', 'Alex', 'Amanda']\n"
     ]
    }
   ],
   "source": [
    "# A value in a Python dict can be a string, a list, another dict, etc.\n",
    "# So, if \"Alex\" and \"Amanda\" are also students in CS, then we can have the value for the key 'CS' as a list:\n",
    "students={\"CS\": [\"John\", \"Alex\", \"Amanda\"] , \"Business\": \"Mary\"}\n",
    "# And now when we print, we get all the students in CS as a full list:\n",
    "print \"The value of the key 'CS' in the 'students' dict is: \", students['CS']"
   ]
  },
  {
   "cell_type": "markdown",
   "metadata": {},
   "source": [
    "# Files: Just a quick note!"
   ]
  },
  {
   "cell_type": "code",
   "execution_count": null,
   "metadata": {
    "collapsed": true
   },
   "outputs": [],
   "source": [
    "# Python is very efficient with files and text processing. Let's see how we open and interact with a file\n",
    "my_file=open(\"path_to_my_read_file\", \"r\").read() # Opens for reading and gets you the file content as a string\n",
    "my_file=open(\"path_to_my_read_file\", \"r\").readlines() # Opens for reading and gets you the file content as a list\n",
    "out_file=open(\"path_to_my_write_file\", \"w\") # Opens for writing\n",
    "\n",
    "# This is how to print/write to a file\n",
    "s=\"This is a line\"\n",
    "print>>out_file, s\n",
    "out_file.write(s)"
   ]
  },
  {
   "cell_type": "code",
   "execution_count": 29,
   "metadata": {
    "collapsed": false
   },
   "outputs": [
    {
     "name": "stdout",
     "output_type": "stream",
     "text": [
      "I'm a pretty line====\n"
     ]
    }
   ],
   "source": [
    "# get red of the \"\\n\" char\n",
    "line=\"I'm a pretty line\\n\"\n",
    "print line.strip()+\"====\"\n",
    "print line[:-1]+\"====\""
   ]
  },
  {
   "cell_type": "markdown",
   "metadata": {},
   "source": [
    "# Loops"
   ]
  },
  {
   "cell_type": "code",
   "execution_count": 12,
   "metadata": {
    "collapsed": false
   },
   "outputs": [
    {
     "name": "stdout",
     "output_type": "stream",
     "text": [
      "apple \t--> is a fruit!\n",
      "strawberry \t--> is a fruit!\n",
      "grapes \t--> is a fruit!\n"
     ]
    }
   ],
   "source": [
    "# Loops\n",
    "fruits=[\"apple\", \"strawberry\", \"grapes\"]\n",
    "for fruit in fruits:\n",
    "    print fruit, \"\\t--> is a fruit!\"\n",
    "# \"\\t\" is the tab characters. Also be aware of \"\\n\", \"\\r\", and \"\\r\\n\" and how these work across different platforms."
   ]
  },
  {
   "cell_type": "code",
   "execution_count": 30,
   "metadata": {
    "collapsed": false
   },
   "outputs": [
    {
     "name": "stdout",
     "output_type": "stream",
     "text": [
      "xz\n",
      "bz\n"
     ]
    }
   ],
   "source": [
    "# Printing with conditionals:\n",
    "# You can combine this with conditionals\n",
    "my_dict={\"aaaa\":10, \"b\":20, \"bz\":20, \"xz\":55, \"ss\":55}\n",
    "for k in my_dict:\n",
    "    if len(k)==2 and (k.endswith(\"z\") or k.startswith(\"x\")):\n",
    "        print  k\n",
    "    #print mary[k]\n",
    "    "
   ]
  },
  {
   "cell_type": "markdown",
   "metadata": {},
   "source": [
    "# Functions"
   ]
  },
  {
   "cell_type": "code",
   "execution_count": 36,
   "metadata": {
    "collapsed": false
   },
   "outputs": [
    {
     "name": "stdout",
     "output_type": "stream",
     "text": [
      "Hello Dane !\n",
      "Hello Chris !\n",
      "Hello Lubna !\n",
      "Hello Nora !\n",
      "None\n"
     ]
    }
   ],
   "source": [
    "# This is a function that only prints something, but does not \n",
    "# return anything\n",
    "def greet(name):\n",
    "    print \"Hello\", name, \"!\"\n",
    "    \n",
    "# This is how you call the function:\n",
    "greet(\"Dane\")\n",
    "greet(\"Chris\")\n",
    "greet(\"Lubna\")\n",
    "something =greet(\"Nora\")\n",
    "print something"
   ]
  },
  {
   "cell_type": "code",
   "execution_count": 38,
   "metadata": {
    "collapsed": true
   },
   "outputs": [],
   "source": [
    "# A sort of an 'empty' function, but it is a valid one!\n",
    "# Bascially, it's a place-filler and you can go back and fill in the \n",
    "# body of the function.\n",
    "def place_filler():\n",
    "    \"\"\"\n",
    "    This is a place filler.\n",
    "    \"\"\"\n",
    "    pass\n",
    "\n",
    "place_filler()"
   ]
  },
  {
   "cell_type": "code",
   "execution_count": 37,
   "metadata": {
    "collapsed": false
   },
   "outputs": [
    {
     "name": "stdout",
     "output_type": "stream",
     "text": [
      "<type 'tuple'> ('A coke is $', 2)\n"
     ]
    }
   ],
   "source": [
    "# A function that returns some value\n",
    "def coke_vending_machine():\n",
    "    return \"A coke is $\", 2 \n",
    "\n",
    "price = coke_vending_machine()\n",
    "print type(price), price"
   ]
  },
  {
   "cell_type": "code",
   "execution_count": 37,
   "metadata": {
    "collapsed": false
   },
   "outputs": [
    {
     "name": "stdout",
     "output_type": "stream",
     "text": [
      "Vikas ---> 105000.0\n",
      "Revathi ---> 73500.0\n"
     ]
    }
   ],
   "source": [
    "# Create a function that calculates a raise for a database of employees\n",
    "# key is name of an employee, value is base_salary\n",
    "employees={\"Revathi\": 70000, \"Vikas\": 100000} \n",
    "\n",
    "def yearly_raise(base_salary):\n",
    "    return base_salary *1.05\n",
    "\n",
    "\n",
    "for k in employees:\n",
    "    print k,\"--->\" , yearly_raise(employees[k])\n",
    "\n"
   ]
  },
  {
   "cell_type": "code",
   "execution_count": 41,
   "metadata": {
    "collapsed": false
   },
   "outputs": [
    {
     "name": "stdout",
     "output_type": "stream",
     "text": [
      "12\n",
      "54\n"
     ]
    }
   ],
   "source": [
    "# Parallel processing of two lists:\n",
    "list_a=[10, 50, 4]\n",
    "list_b=[2, 4]\n",
    "for i in range(len(list_a)):\n",
    "    try:\n",
    "        print list_a[i]+list_b[i]\n",
    "    except:\n",
    "        pass "
   ]
  },
  {
   "cell_type": "code",
   "execution_count": 42,
   "metadata": {
    "collapsed": false
   },
   "outputs": [
    {
     "data": {
      "text/plain": [
       "[(10, 2), (50, 4)]"
      ]
     },
     "execution_count": 42,
     "metadata": {},
     "output_type": "execute_result"
    }
   ],
   "source": [
    "# Python gives you a function \"zip\" that returns a list of tuples when passed two lists:\n",
    "x=[10, 50]\n",
    "y=[2, 4]\n",
    "zip(x,y)\n",
    "# (Hint: There is also \"izip\". What does it do? Can you tell?)"
   ]
  },
  {
   "cell_type": "code",
   "execution_count": 45,
   "metadata": {
    "collapsed": false
   },
   "outputs": [
    {
     "name": "stdout",
     "output_type": "stream",
     "text": [
      "12\n",
      "54\n"
     ]
    }
   ],
   "source": [
    "# Process with \"zip\"\n",
    "x=[10, 50]\n",
    "y=[2, 4]\n",
    "my_list_of_tuples=zip(x,y)\n",
    "\n",
    "for pair in my_list_of_tuples:\n",
    "    print pair[0]+pair[1]\n"
   ]
  },
  {
   "cell_type": "code",
   "execution_count": 46,
   "metadata": {
    "collapsed": false
   },
   "outputs": [
    {
     "data": {
      "text/plain": [
       "[12, 54]"
      ]
     },
     "execution_count": 46,
     "metadata": {},
     "output_type": "execute_result"
    }
   ],
   "source": [
    "# On the fly, with list comprehension:\n",
    "[i[0]+i[1] for i in zip(x,y)]"
   ]
  },
  {
   "cell_type": "code",
   "execution_count": 7,
   "metadata": {
    "collapsed": false
   },
   "outputs": [
    {
     "data": {
      "text/plain": [
       "[2, 3, 4, 5, 6, 7, 8, 9]"
      ]
     },
     "execution_count": 7,
     "metadata": {},
     "output_type": "execute_result"
    }
   ],
   "source": [
    "# Above, we used \"range\". It returns a list, possibly starting from a given point \\\n",
    "# (as from 2 below), up to but not including another:\n",
    "range(2, 10)"
   ]
  },
  {
   "cell_type": "markdown",
   "metadata": {},
   "source": [
    "# More on functions"
   ]
  },
  {
   "cell_type": "code",
   "execution_count": 4,
   "metadata": {
    "collapsed": false
   },
   "outputs": [
    {
     "name": "stdout",
     "output_type": "stream",
     "text": [
      "I\n",
      "am\n",
      "happy\n"
     ]
    }
   ],
   "source": [
    "# First look at this:\n",
    "s=\"I am happy\"\n",
    "words= s.split()\n",
    "for w in words:\n",
    "    print w"
   ]
  },
  {
   "cell_type": "code",
   "execution_count": 22,
   "metadata": {
    "collapsed": false
   },
   "outputs": [
    {
     "name": "stdout",
     "output_type": "stream",
     "text": [
      "{'and': 4, 'learning.': 1, '(the': 1, 'family': 1, 'be': 1, 'other.': 1, 'experience,': 1, 'unknown.Artificial': 1, 'number': 1, 'numeric': 1, 'connections': 1, 'as': 1, 'brain)': 1, 'are': 4, 'learning': 1, 'in': 1, 'based': 1, 'tuned': 1, 'nets': 1, 'networks': 3, '(ANNs)': 1, 'functions': 1, 'depend': 1, 'capable': 1, 'nervous': 1, 'exchange': 1, 'generally': 2, 'approximate': 1, 'artificial': 1, 'machine': 1, 'to': 2, 'systems': 2, 'which': 1, 'between': 1, 'adaptive': 1, '\"neurons\"': 1, 'inputs': 2, 'used': 1, 'that': 2, 'models': 1, 'each': 1, 'animals,': 1, 'particular': 1, 'The': 1, 'estimate': 1, 'by': 1, 'a': 2, 'on': 2, 'central': 1, 'cognitive': 1, 'neural': 4, 'of': 5, 'inspired': 1, 'presented': 1, 'messages': 1, 'science,': 1, 'interconnected': 1, 'large': 1, 'weights': 1, 'can': 2, 'have': 1, 'In': 1, 'biological': 1, 'the': 1, 'or': 1, 'making': 1}\n"
     ]
    }
   ],
   "source": [
    "# A function can \"return\" an object.\n",
    "# We provide an example here\n",
    "\n",
    "# text below is from https://en.wikipedia.org/wiki/Artificial_neural_network\n",
    "sentences=[\"In machine learning and cognitive science, artificial neural networks (ANNs)\\\n",
    "         are a family of models inspired by biological neural networks (the central nervous systems of animals, \\\n",
    "          in particular the brain) and are used to estimate or approximate functions that can depend on a large\\\n",
    "          number of inputs and are generally unknown.\"\n",
    "           \"Artificial neural networks are generally presented as systems of interconnected \\\"neurons\\\" which \\\n",
    "           exchange messages between each other. The connections have numeric weights that can be tuned based \\\n",
    "           on experience, making neural nets adaptive to inputs and capable of learning.\"]\n",
    "def get_dict(sentences):\n",
    "    \"\"\"\n",
    "    arguments:\n",
    "    input: @sentences: a list of sentences\n",
    "    returns: a dictionary of the words in the sentences.\n",
    "             dict key is a word and value is word frequency\n",
    "    \"\"\"\n",
    "    word_freq={}\n",
    "    for sent in sentences:\n",
    "        words=sent.split()\n",
    "        for w in words:\n",
    "            if w in word_freq:\n",
    "                word_freq[w]+=1\n",
    "            else:\n",
    "                word_freq[w]=1\n",
    "    return word_freq\n",
    "        \n",
    "    \n",
    "my_word_freq_dict=get_dict(sentences)\n",
    "print my_word_freq_dict"
   ]
  },
  {
   "cell_type": "code",
   "execution_count": 57,
   "metadata": {
    "collapsed": false
   },
   "outputs": [
    {
     "name": "stdout",
     "output_type": "stream",
     "text": [
      "set(['it.', 'sure', 'like', 'People', 'I', 'people', 'am', 'do!'])\n",
      "set(['it.', 'sure', 'like', 'people', 'i', 'do!', 'am'])\n"
     ]
    }
   ],
   "source": [
    "# Sidenote on lowercasing and splitting\n",
    "text=\"People like it. I am sure people do!\"\n",
    "x1=set(text.split())\n",
    "print(x1)\n",
    "x2=set(text.lower().split())\n",
    "print(x2)\n"
   ]
  },
  {
   "cell_type": "code",
   "execution_count": 66,
   "metadata": {
    "collapsed": false
   },
   "outputs": [
    {
     "name": "stdout",
     "output_type": "stream",
     "text": [
      "People__dance-dance__like__dance-dance__it.__dance-dance__I__dance-dance__am__dance-dance__sure__dance-dance__people__dance-dance__do!\n"
     ]
    }
   ],
   "source": [
    "# Cleaning with regex\n",
    "text=\"People like it. I am sure people do!\"\n",
    "import re\n",
    "text=re.sub(\"!\", \"\", text)\n",
    "print text\n"
   ]
  },
  {
   "cell_type": "code",
   "execution_count": 70,
   "metadata": {
    "collapsed": false
   },
   "outputs": [
    {
     "name": "stdout",
     "output_type": "stream",
     "text": [
      "('', 'Ooops! There was text here!')\n",
      "('       ', 'Ooops! There was text here!')\n"
     ]
    }
   ],
   "source": [
    "# Cleaning with regex, more..\n",
    "import re\n",
    "# Remove *all* chars (any character, including white space)\n",
    "text=\"People like it. I am sure people do!\"\n",
    "text=re.sub(\".\", \"\", text)\n",
    "print(text, \"Ooops! There was text here!\")\n",
    "# Remove all *non-white space* chars\n",
    "text=\"People like it. I am sure people do!\"\n",
    "text=re.sub(\"\\S+\", \"\", text)\n",
    "print (text, \"Ooops! There was text here!\")"
   ]
  },
  {
   "cell_type": "code",
   "execution_count": 74,
   "metadata": {
    "collapsed": false
   },
   "outputs": [
    {
     "name": "stdout",
     "output_type": "stream",
     "text": [
      "Here're are your keys with values > 2:\n",
      "****************************************\n",
      "and 4\n",
      "are 4\n",
      "networks 3\n",
      "neural 4\n",
      "of 5\n",
      "\n",
      "Here're are your keys with values > 1 and keys of more than 5 chars:\n",
      "**********************************************************************\n",
      "networks 3\n",
      "generally 2\n",
      "systems 2\n",
      "inputs 2\n",
      "neural 4\n"
     ]
    }
   ],
   "source": [
    "# Here's the same function as above, but using python's \"defaultdict\"\n",
    "from collections import defaultdict\n",
    "sentences=[\"In machine learning and cognitive science, artificial neural networks (ANNs)\\\n",
    "         are a family of models inspired by biological neural networks (the central nervous systems of animals, \\\n",
    "          in particular the brain) and are used to estimate or approximate functions that can depend on a large\\\n",
    "          number of inputs and are generally unknown.\"\n",
    "           \"Artificial neural networks are generally presented as systems of interconnected \\\"neurons\\\" which \\\n",
    "           exchange messages between each other. The connections have numeric weights that can be tuned based \\\n",
    "           on experience, making neural nets adaptive to inputs and capable of learning.\"]\n",
    "\n",
    "def get_dict(sentences):\n",
    "    \"\"\"\n",
    "    arguments:\n",
    "    input: @sentences: a list of sentences\n",
    "    returns: a dictionary of the words in the sentences.\n",
    "             dict key is a word and value is word frequency\n",
    "    \"\"\"\n",
    "    word_freq=defaultdict(int)\n",
    "    for sent in sentences:\n",
    "        words=sent.split()\n",
    "        for w in words:\n",
    "            word_freq[w]+=1\n",
    "    return word_freq\n",
    "    \n",
    "my_word_freq_dict=get_dict(sentences)\n",
    "# Let's print only keys with values > 2 this time\n",
    "print \"Here're are your keys with values > 2:\\n\", \"*\"*40\n",
    "for k in my_word_freq_dict:\n",
    "    if my_word_freq_dict[k] > 2:\n",
    "        print k, my_word_freq_dict[k]\n",
    "\n",
    "# Let's print only keys whose length > 5 (so keys that have at least 6 characters/letters) and values > 1 \n",
    "print \"\\nHere're are your keys with values > 1 and keys of more than 5 chars:\\n\", \"*\"*70\n",
    "for k in my_word_freq_dict:\n",
    "    if my_word_freq_dict[k] > 1 and len(k) > 5:\n",
    "        print k, my_word_freq_dict[k]"
   ]
  },
  {
   "cell_type": "markdown",
   "metadata": {},
   "source": [
    "# Conditionals"
   ]
  },
  {
   "cell_type": "code",
   "execution_count": 14,
   "metadata": {
    "collapsed": false
   },
   "outputs": [
    {
     "name": "stdout",
     "output_type": "stream",
     "text": [
      "This is such a short list!\n"
     ]
    }
   ],
   "source": [
    "fruits=[\"apple\", \"strawberry\", \"grapes\"]\n",
    "if len(fruits) < 10:\n",
    "    print \"This is such a short list!\""
   ]
  },
  {
   "cell_type": "code",
   "execution_count": 56,
   "metadata": {
    "collapsed": false
   },
   "outputs": [
    {
     "name": "stdout",
     "output_type": "stream",
     "text": [
      "I need an apple!\n"
     ]
    }
   ],
   "source": [
    "fruits=[\"apple\", \"strawberry\", \"grapes\"]\n",
    "if \"apple\" not in fruits:\n",
    "    print \"No apples?!\"\n",
    "else:\n",
    "    print \"I need an apple!\"\n",
    "#---------------\n"
   ]
  },
  {
   "cell_type": "code",
   "execution_count": 57,
   "metadata": {
    "collapsed": false
   },
   "outputs": [
    {
     "name": "stdout",
     "output_type": "stream",
     "text": [
      "No apples?!\n"
     ]
    }
   ],
   "source": [
    "fruits=[]\n",
    "if \"apple\" not in fruits:\n",
    "    print \"No apples?!\"\n",
    "elif \"banana\" in fruits:\n",
    "    print \"I need a banana!\"\n",
    "else:\n",
    "    print \"I need an apple!\""
   ]
  },
  {
   "cell_type": "markdown",
   "metadata": {},
   "source": [
    "# List Comprehension"
   ]
  },
  {
   "cell_type": "code",
   "execution_count": 19,
   "metadata": {
    "collapsed": false
   },
   "outputs": [
    {
     "name": "stdout",
     "output_type": "stream",
     "text": [
      "['s', 't', 'r', 'a', 'w', 'b', 'e', 'r', 'r', 'y']\n"
     ]
    }
   ],
   "source": [
    "dessert=\"strawberry\"\n",
    "chars=[char for char in dessert]\n",
    "print chars"
   ]
  },
  {
   "cell_type": "code",
   "execution_count": 21,
   "metadata": {
    "collapsed": false
   },
   "outputs": [
    {
     "name": "stdout",
     "output_type": "stream",
     "text": [
      "['s', 't', 'r', 'w', 'b', 'r', 'r']\n"
     ]
    }
   ],
   "source": [
    "# With a condition\n",
    "dessert=\"strawberry\"\n",
    "vowels=[\"a\", \"e\", \"y\"]\n",
    "chars=[char for char in dessert if char not in vowels]\n",
    "print chars"
   ]
  },
  {
   "cell_type": "code",
   "execution_count": 61,
   "metadata": {
    "collapsed": false,
    "scrolled": true
   },
   "outputs": [
    {
     "name": "stdout",
     "output_type": "stream",
     "text": [
      "k\n",
      "i\n",
      "n\n",
      "g\n",
      "['i', 'n', 'g']\n"
     ]
    }
   ],
   "source": [
    "for c in \"king\":\n",
    "    print c\n",
    "    \n",
    "x=[c for c in \"king\" if c !=\"k\"]\n",
    "print x"
   ]
  },
  {
   "cell_type": "markdown",
   "metadata": {
    "collapsed": true
   },
   "source": [
    "# NLTK Tutorial"
   ]
  },
  {
   "cell_type": "code",
   "execution_count": 80,
   "metadata": {
    "collapsed": false
   },
   "outputs": [
    {
     "name": "stdout",
     "output_type": "stream",
     "text": [
      "*** Introductory Examples for the NLTK Book ***\n",
      "Loading text1, ..., text9 and sent1, ..., sent9\n",
      "Type the name of the text or sentence to view it.\n",
      "Type: 'texts()' or 'sents()' to list the materials.\n",
      "text1: Moby Dick by Herman Melville 1851\n",
      "text2: Sense and Sensibility by Jane Austen 1811\n",
      "text3: The Book of Genesis\n",
      "text4: Inaugural Address Corpus\n",
      "text5: Chat Corpus\n",
      "text6: Monty Python and the Holy Grail\n",
      "text7: Wall Street Journal\n",
      "text8: Personals Corpus\n",
      "text9: The Man Who Was Thursday by G . K . Chesterton 1908\n"
     ]
    }
   ],
   "source": [
    "# Take a look at the preface here: http://www.nltk.org/book/ch00.html\n",
    "# This tutorial is based on Python 2.7, but it shouldn't be an issue to write the same code for Python 3 as the differences\n",
    "# are minimal so long as the tutorial is concerned\n",
    "import nltk\n",
    "from nltk.book import *"
   ]
  },
  {
   "cell_type": "code",
   "execution_count": null,
   "metadata": {
    "collapsed": true
   },
   "outputs": [],
   "source": []
  },
  {
   "cell_type": "code",
   "execution_count": null,
   "metadata": {
    "collapsed": true
   },
   "outputs": [],
   "source": []
  },
  {
   "cell_type": "code",
   "execution_count": 253,
   "metadata": {
    "collapsed": false
   },
   "outputs": [
    {
     "name": "stdout",
     "output_type": "stream",
     "text": [
      "Displaying 10 of 66 matches:\n",
      "r occupations may come . The Negroes are now Americans . Their ancestors came here years ago agains\n",
      "e it so or not . And yet we are not the less Americans on that account . We shall be the more Ameri\n",
      "we find them now secure ; and there comes to Americans the profound assurance that our representati\n",
      "have called me . I am certain that my fellow Americans expect that on my induction into the Preside\n",
      " and the hurricanes of disaster . In this we Americans were discovering no wholly new truth ; we we\n",
      " and that freedom is an ebbing tide . But we Americans know that this is not true . Eight years ago\n",
      "eat . We are not content to stand still . As Americans , we go forward , in the service of our coun\n",
      "uguration be simple and its words brief . We Americans of today , together with our allies , are pa\n",
      "in the discharge of this responsibility , we Americans know and we observe the difference between w\n",
      "cked bargain of trading honor for security . Americans , indeed all free men , remember that in the\n",
      "None\n"
     ]
    }
   ],
   "source": [
    "print(text4.concordance(\"Americans\", width=100, lines=10))"
   ]
  },
  {
   "cell_type": "code",
   "execution_count": 7,
   "metadata": {
    "collapsed": false
   },
   "outputs": [
    {
     "name": "stdout",
     "output_type": "stream",
     "text": [
      "the free power opportunity fellow opinions colleges peace gangs\n",
      "judgments consent noblest ideas colors fidelity unquestionable worship\n",
      "discipline industrious just\n",
      "None\n"
     ]
    }
   ],
   "source": [
    "# Other words that appear in a similar range of contexts as a given word\n",
    "print(text4.similar(\"patriotic\"))"
   ]
  },
  {
   "cell_type": "code",
   "execution_count": null,
   "metadata": {
    "collapsed": true
   },
   "outputs": [],
   "source": []
  },
  {
   "cell_type": "code",
   "execution_count": 85,
   "metadata": {
    "collapsed": false
   },
   "outputs": [
    {
     "name": "stdout",
     "output_type": "stream",
     "text": [
      "No common contexts were found\n",
      "None\n"
     ]
    }
   ],
   "source": [
    "print(text4.common_contexts([\"patriotic\", \"very\"])) "
   ]
  },
  {
   "cell_type": "code",
   "execution_count": 89,
   "metadata": {
    "collapsed": false
   },
   "outputs": [
    {
     "name": "stdout",
     "output_type": "stream",
     "text": [
      "every_citizen and_and our_citizens\n",
      "None\n"
     ]
    }
   ],
   "source": [
    "print(text4.common_contexts([\"patriotic\", \"free\"])) "
   ]
  },
  {
   "cell_type": "code",
   "execution_count": 31,
   "metadata": {
    "collapsed": false
   },
   "outputs": [
    {
     "name": "stdout",
     "output_type": "stream",
     "text": [
      "0.0669\n"
     ]
    }
   ],
   "source": [
    "from __future__ import division # in Python 3 you don't need to do the import\n",
    "# Lexical diversity\n",
    "def lexical_diversity(text):\n",
    "    return len(set(text))/len(text)\n",
    "\n",
    "lex_div=lexical_diversity(text4)\n",
    "print(round(lex_div, 4))"
   ]
  },
  {
   "cell_type": "code",
   "execution_count": 35,
   "metadata": {
    "collapsed": false
   },
   "outputs": [
    {
     "name": "stdout",
     "output_type": "stream",
     "text": [
      "[u'AS', u'Abandonment', u'Abhorring', u'About', u'Above', u'Abraham', u'Abroad', u'Accept', u'Across', u'Act', u'Acting', u'Action', u'Actual', u'Adams', u'Additional', u'Address', u'Administered', u'Administration', u'Administrations', u'Advance']\n"
     ]
    }
   ],
   "source": [
    "# sorted set of words\n",
    "print(sorted(set(text4))[100:120])"
   ]
  },
  {
   "cell_type": "code",
   "execution_count": 78,
   "metadata": {
    "collapsed": false
   },
   "outputs": [
    {
     "name": "stdout",
     "output_type": "stream",
     "text": [
      "None\n",
      "['father', 'man', 'mother', 'woman']\n"
     ]
    }
   ],
   "source": [
    "#Pay attenstion to the difference of these!\n",
    "tokens=[\"man\", \"woman\", \"father\", \"mother\"]\n",
    "print tokens.sort() # Returns \"None\", but sorts the list in place\n",
    "print sorted(tokens) # Returns the sorted list\n"
   ]
  },
  {
   "cell_type": "code",
   "execution_count": 81,
   "metadata": {
    "collapsed": false
   },
   "outputs": [
    {
     "name": "stdout",
     "output_type": "stream",
     "text": [
      "('man', 102)\n",
      "('woman', 3)\n",
      "('father', 4)\n",
      "('mother', 4)\n"
     ]
    }
   ],
   "source": [
    "words=[\"man\", \"woman\", \"father\", \"mother\"]\n",
    "for w in words:\n",
    "    print(w, text4.count(w))"
   ]
  },
  {
   "cell_type": "code",
   "execution_count": null,
   "metadata": {
    "collapsed": true
   },
   "outputs": [],
   "source": []
  },
  {
   "cell_type": "code",
   "execution_count": null,
   "metadata": {
    "collapsed": true
   },
   "outputs": [],
   "source": [
    " # Stop here:====="
   ]
  },
  {
   "cell_type": "code",
   "execution_count": 61,
   "metadata": {
    "collapsed": false
   },
   "outputs": [
    {
     "name": "stdout",
     "output_type": "stream",
     "text": [
      "****************************************************************************************************\n",
      "[(u'institutions', 76), (u'come', 75), (u'party', 75), (u'better', 75), (u'always', 74), (u'today', 74), (u'office', 73), (u'still', 73), (u'need', 73), (u'others', 73), (u'strength', 72), (u'Let', 72), (u'nor', 72), (u'itself', 72), (u'means', 70), (u'believe', 70), (u'themselves', 70), (u'place', 70), (u'land', 69), (u'could', 69), (u'then', 69), (u'.\"', 69), (u'home', 69), (u'equal', 69), (u'together', 68), (u'might', 68), (u'things', 67), (u'secure', 67), (u'Nation', 67), (u'whose', 66), (u'find', 66), (u'given', 66), (u'prosperity', 66), (u'Americans', 66), (u'old', 65), (u'am', 65), (u'full', 65), (u'give', 65), (u'here', 64), (u'Federal', 64), (u'action', 64), (u'order', 64), (u'yet', 64), (u'proper', 64), (u'found', 63), (u'up', 63), (u'important', 63), (u'responsibility', 63), (u'take', 62), (u'where', 62), (u'being', 62), (u'change', 62), (u'Executive', 62), (u'even', 62), (u'subject', 62), (u'administration', 61), (u'revenue', 61), (u'State', 61), (u'see', 60), (u'security', 60), (u'ought', 60), (u'trust', 60), (u'These', 60), (u'A', 59), (u'self', 59), (u'true', 59), (u'business', 59), (u'seek', 59), (u'character', 59), (u'honor', 59), (u'question', 59), (u'called', 59), (u'respect', 59), (u'commerce', 58), (u'cause', 58), (u'toward', 58), (u'principle', 58), (u'again', 58), (u'century', 58), (u'influence', 57), (u'become', 56), (u'protection', 56), (u'done', 56), (u'stand', 56), (u'course', 55), (u'another', 55), (u'very', 55), (u'help', 55), (u'like', 55), (u'citizen', 54), (u'authority', 54), (u'also', 53), (u'Republic', 53), (u'live', 53), (u'civil', 53), (u'past', 52), (u'sense', 52), (u'constitutional', 52), (u'meet', 52), (u'democracy', 52)]\n",
      "****************************************************************************************************\n",
      "14\n",
      "312\n",
      "****************************************************************************************************\n",
      "[u'than', u'country', u'.', u'has', u'people', u'for', u'citizens', u'time', u'so', u'nation']\n"
     ]
    }
   ],
   "source": [
    "# Frequency distribution\n",
    "freq_dist = FreqDist(text4) \n",
    "print(\"*\"*100)\n",
    "print(freq_dist.most_common(1000))[200:300]\n",
    "print(\"*\"*100)\n",
    "print(freq_dist[\"European\"])\n",
    "print(freq_dist[\"world\"])\n",
    "print(\"*\"*100)\n",
    "#------------------------------------------\n",
    "# Vocabulary\n",
    "V=set(text4)\n",
    "words=[w for w in V if freq_dist[w] > 200][:10]\n",
    "print(words)"
   ]
  },
  {
   "cell_type": "code",
   "execution_count": 62,
   "metadata": {
    "collapsed": false
   },
   "outputs": [
    {
     "name": "stdout",
     "output_type": "stream",
     "text": [
      "United States; fellow citizens; four years; years ago; Federal\n",
      "Government; General Government; American people; Vice President; Old\n",
      "World; Almighty God; Fellow citizens; Chief Magistrate; Chief Justice;\n",
      "God bless; every citizen; Indian tribes; public debt; one another;\n",
      "foreign nations; political parties\n",
      "None\n"
     ]
    }
   ],
   "source": [
    "# Collocations\n",
    "print(text4.collocations())"
   ]
  },
  {
   "cell_type": "code",
   "execution_count": 67,
   "metadata": {
    "collapsed": false
   },
   "outputs": [
    {
     "name": "stdout",
     "output_type": "stream",
     "text": [
      "[u'zodiac', u'zodiac', u'zogranda', u'zone', u'zoned', u'zoned', u'zones', u'zoology', u'zoology', u'zoroaster']\n",
      "[u'zephyr', u'zeuglodon', u'zig', u'zodiac', u'zogranda', u'zone', u'zoned', u'zones', u'zoology', u'zoroaster']\n"
     ]
    }
   ],
   "source": [
    "# Could you tell the difference?\n",
    "print(sorted(w.lower() for w in set(text1))[-10:])\n",
    "print(sorted(set(w.lower() for w in text1))[-10:])"
   ]
  },
  {
   "cell_type": "code",
   "execution_count": 20,
   "metadata": {
    "collapsed": false
   },
   "outputs": [
    {
     "name": "stdout",
     "output_type": "stream",
     "text": [
      "<class 'bs4.BeautifulSoup'>\n",
      "\n",
      "\n",
      "Hamlet: Entire Play\n",
      " \n",
      "\n",
      "\n",
      "\n",
      "\n",
      "\n",
      "The Tragedy of Hamlet, Prince of Denmark\n",
      "\n",
      "Shakespeare homepage \n",
      "    | Hamlet \n",
      "    | Entire play\n",
      "\n",
      "ACT I\n",
      "SCENE I. Elsinore. A platform before the castle.\n",
      "\n",
      "FRANCISCO at his post. Enter to him BERNARDO\n",
      "\n",
      "BERNARDO\n",
      "\n",
      "Who's there?\n",
      "\n",
      "FRANCISCO\n",
      "\n",
      "Nay, answer me: stand, and unfold you\n"
     ]
    },
    {
     "ename": "NameError",
     "evalue": "name 'nltk' is not defined",
     "output_type": "error",
     "traceback": [
      "\u001b[0;31m---------------------------------------------------------------------------\u001b[0m",
      "\u001b[0;31mNameError\u001b[0m                                 Traceback (most recent call last)",
      "\u001b[0;32m<ipython-input-20-2f79b29602cf>\u001b[0m in \u001b[0;36m<module>\u001b[0;34m()\u001b[0m\n\u001b[1;32m     11\u001b[0m \u001b[0;31m#print(\"*\"*100)\u001b[0m\u001b[0;34m\u001b[0m\u001b[0;34m\u001b[0m\u001b[0m\n\u001b[1;32m     12\u001b[0m \u001b[0;31m#------------------------------------------\u001b[0m\u001b[0;34m\u001b[0m\u001b[0;34m\u001b[0m\u001b[0m\n\u001b[0;32m---> 13\u001b[0;31m \u001b[0mtokens\u001b[0m\u001b[0;34m=\u001b[0m\u001b[0mnltk\u001b[0m\u001b[0;34m.\u001b[0m\u001b[0mword_tokenize\u001b[0m\u001b[0;34m(\u001b[0m\u001b[0mraw\u001b[0m\u001b[0;34m)\u001b[0m\u001b[0;34m\u001b[0m\u001b[0m\n\u001b[0m\u001b[1;32m     14\u001b[0m \u001b[0;31m#print(tokens[100:200])\u001b[0m\u001b[0;34m\u001b[0m\u001b[0;34m\u001b[0m\u001b[0m\n",
      "\u001b[0;31mNameError\u001b[0m: name 'nltk' is not defined"
     ]
    }
   ],
   "source": [
    "from urllib import urlopen\n",
    "from bs4 import BeautifulSoup\n",
    "url=\"http://shakespeare.mit.edu/hamlet/full.html\"\n",
    "page = urlopen(url)\n",
    "soup = BeautifulSoup(page.read())\n",
    "#print type(soup)\n",
    "#html = urlopen(url).read()    \n",
    "raw = BeautifulSoup.get_text(soup)  \n",
    "\n",
    "print(raw[:300])\n",
    "#print(\"*\"*100)\n",
    "#------------------------------------------\n",
    "tokens=nltk.word_tokenize(raw)\n",
    "#print(tokens[100:200])\n"
   ]
  },
  {
   "cell_type": "code",
   "execution_count": 11,
   "metadata": {
    "collapsed": false
   },
   "outputs": [
    {
     "name": "stdout",
     "output_type": "stream",
     "text": [
      "['I', 'am', 'happy']\n"
     ]
    }
   ],
   "source": [
    "import nltk\n",
    "raw=\"I am happy\"\n",
    "tokens=nltk.word_tokenize(raw)\n",
    "print tokens"
   ]
  },
  {
   "cell_type": "code",
   "execution_count": null,
   "metadata": {
    "collapsed": true
   },
   "outputs": [],
   "source": []
  },
  {
   "cell_type": "code",
   "execution_count": null,
   "metadata": {
    "collapsed": true
   },
   "outputs": [],
   "source": []
  },
  {
   "cell_type": "code",
   "execution_count": null,
   "metadata": {
    "collapsed": true
   },
   "outputs": [],
   "source": []
  },
  {
   "cell_type": "code",
   "execution_count": null,
   "metadata": {
    "collapsed": true
   },
   "outputs": [],
   "source": []
  },
  {
   "cell_type": "code",
   "execution_count": null,
   "metadata": {
    "collapsed": true
   },
   "outputs": [],
   "source": []
  },
  {
   "cell_type": "code",
   "execution_count": null,
   "metadata": {
    "collapsed": true
   },
   "outputs": [],
   "source": []
  },
  {
   "cell_type": "code",
   "execution_count": null,
   "metadata": {
    "collapsed": true
   },
   "outputs": [],
   "source": []
  },
  {
   "cell_type": "code",
   "execution_count": null,
   "metadata": {
    "collapsed": true
   },
   "outputs": [],
   "source": []
  },
  {
   "cell_type": "markdown",
   "metadata": {},
   "source": [
    "# More on Files"
   ]
  },
  {
   "cell_type": "code",
   "execution_count": 230,
   "metadata": {
    "collapsed": false
   },
   "outputs": [
    {
     "name": "stdout",
     "output_type": "stream",
     "text": [
      "<type 'list'>\n",
      "[u'The', u'Project', u'Gutenberg', u'EBook', u'of', u'Hamlet', u',', u'by', u'William', u'Shakespeare', u'This', u'eBook', u'is', u'for', u'the', u'use', u'of', u'anyone', u'anywhere', u'at']\n",
      "**************************************************\n",
      "[u'The', u'Project', u'Gutenberg', u'EBook', u'of', u'Hamlet', u',', u'by', u'William', u'Shakespeare', u'This', u'eBook', u'is', u'for', u'the', u'use', u'of', u'anyone', u'anywhere', u'at', u'no', u'cost', u'and', u'with', u'almost', u'no', u'restrictions', u'whatsoever', u'.', u'You', u'may', u'copy', u'it', u',', u'give', u'it', u'away', u'or', u're-use', u'it', u'under', u'the', u'terms', u'of', u'the', u'Project', u'Gutenberg', u'License', u'included', u'with']\n",
      "Project Gutenberg-tm; _1st Clo._; Project Gutenberg; _Crosses to_;\n",
      "Literary Archive; Gutenberg-tm electronic; Archive Foundation;\n",
      "electronic works; Gutenberg Literary; United States; _2nd Clo._;\n",
      "ROSENCRANTZ _and_; public domain; _and_ GUILDENSTERN; Dr. Johnson;\n",
      "_1st Play._; electronic work; _and_ Attendants; the_ KING; set forth\n",
      "None\n"
     ]
    }
   ],
   "source": [
    "import codecs\n",
    "from nltk import word_tokenize, Text\n",
    "text_string=codecs.open(\"hamlet.txt\", \"r\", \"utf-8\").read() # Opens for reading and gets you the file content as a list\n",
    "tokens = word_tokenize(text_string)\n",
    "print(type(tokens))\n",
    "print(tokens[:20])\n",
    "text = Text(tokens)\n",
    "print(\"*\"*50)\n",
    "print(text[:50])\n",
    "print(text.collocations())\n"
   ]
  },
  {
   "cell_type": "code",
   "execution_count": null,
   "metadata": {
    "collapsed": true
   },
   "outputs": [],
   "source": []
  },
  {
   "cell_type": "code",
   "execution_count": null,
   "metadata": {
    "collapsed": true
   },
   "outputs": [],
   "source": []
  },
  {
   "cell_type": "code",
   "execution_count": null,
   "metadata": {
    "collapsed": true
   },
   "outputs": [],
   "source": []
  },
  {
   "cell_type": "code",
   "execution_count": 90,
   "metadata": {
    "collapsed": false
   },
   "outputs": [
    {
     "name": "stdout",
     "output_type": "stream",
     "text": [
      "[u'[', u'The', u'Tragedie', u'of', u'Hamlet', u'by', u'William', u'Shakespeare', u'1599', u']']\n",
      "[u'Actus', u'Primus', u'.']\n",
      "[u'Scoena', u'Prima', u'.']\n",
      "[u'Enter', u'Barnardo', u'and', u'Francisco', u'two', u'Centinels', u'.']\n",
      "[u'Barnardo', u'.']\n"
     ]
    }
   ],
   "source": [
    "#sentence splitting\n",
    "from nltk.corpus import gutenberg\n",
    "hamlet_sent=gutenberg.sents('shakespeare-hamlet.txt')\n",
    "for sent in hamlet_sent[:5]:\n",
    "    print(sent)\n"
   ]
  },
  {
   "cell_type": "code",
   "execution_count": 93,
   "metadata": {
    "collapsed": false
   },
   "outputs": [
    {
     "name": "stdout",
     "output_type": "stream",
     "text": [
      "[u'1789-Washington.txt', u'1793-Washington.txt', u'1797-Adams.txt', u'1801-Jefferson.txt', u'1805-Jefferson.txt']\n",
      "**************************************************\n",
      "[u'1789', u'1793', u'1797', u'1801', u'1805', u'1809', u'1813', u'1817', u'1821', u'1825', u'1829', u'1833', u'1837', u'1841', u'1845', u'1849', u'1853', u'1857', u'1861', u'1865', u'1869', u'1873', u'1877', u'1881', u'1885', u'1889', u'1893', u'1897', u'1901', u'1905', u'1909', u'1913', u'1917', u'1921', u'1925', u'1929', u'1933', u'1937', u'1941', u'1945', u'1949', u'1953', u'1957', u'1961', u'1965', u'1969', u'1973', u'1977', u'1981', u'1985', u'1989', u'1993', u'1997', u'2001', u'2005', u'2009']\n"
     ]
    }
   ],
   "source": [
    "from nltk.corpus import inaugural\n",
    "print(inaugural.fileids()[:5])\n",
    "print(\"*\"*50)\n",
    "#print([fileid[:4] for fileid in inaugural.fileids()])"
   ]
  },
  {
   "cell_type": "markdown",
   "metadata": {},
   "source": [
    "# Generate text"
   ]
  },
  {
   "cell_type": "code",
   "execution_count": null,
   "metadata": {
    "collapsed": true
   },
   "outputs": [],
   "source": []
  },
  {
   "cell_type": "code",
   "execution_count": 122,
   "metadata": {
    "collapsed": false
   },
   "outputs": [
    {
     "name": "stdout",
     "output_type": "stream",
     "text": [
      "living creature that he said , and the land of the land of the land of the land of the land of the land of the land of the land None\n"
     ]
    }
   ],
   "source": [
    "# From the NLTK book: http://www.nltk.org/book/ch02.html\n",
    "def generate_model(cfdist, word, num=15):\n",
    "    for i in range(num):\n",
    "        print(word),\n",
    "        word = cfdist[word].max()\n",
    "\n",
    "\n",
    "text = nltk.corpus.genesis.words('english-kjv.txt')\n",
    "bigrams = nltk.bigrams(text)\n",
    "cfd = nltk.ConditionalFreqDist(bigrams)\n",
    "print(generate_model(cfd, 'living', num=30))\n",
    "#print(cfd[\"living\"].max())"
   ]
  },
  {
   "cell_type": "markdown",
   "metadata": {},
   "source": [
    "# WordNet"
   ]
  },
  {
   "cell_type": "code",
   "execution_count": 133,
   "metadata": {
    "collapsed": false
   },
   "outputs": [
    {
     "name": "stdout",
     "output_type": "stream",
     "text": [
      "[Synset('nice.n.01'), Synset('nice.a.01'), Synset('decent.s.01'), Synset('nice.s.03'), Synset('dainty.s.04'), Synset('courteous.s.01')]\n",
      "**************************************************\n",
      "done with delicacy and skill\n",
      "[u'nice', u'skillful']\n",
      "**************************************************\n",
      "exhibiting courtesy and politeness\n",
      "[u'courteous', u'gracious', u'nice']\n",
      "**************************************************\n",
      "excessively fastidious and easily disgusted\n",
      "[u'dainty', u'nice', u'overnice', u'prissy', u'squeamish']\n"
     ]
    }
   ],
   "source": [
    "from nltk.corpus import wordnet as wn\n",
    "print(wn.synsets('nice'))\n",
    "print(\"*\"*50)\n",
    "print(wn.synset('nice.s.03').definition())\n",
    "print(wn.synset('nice.s.03').lemma_names())\n",
    "print(\"*\"*50)\n",
    "print(wn.synset('courteous.s.01').definition())\n",
    "print(wn.synset('courteous.s.01').lemma_names())\n",
    "print(\"*\"*50)\n",
    "print(wn.synset('dainty.s.04').definition())\n",
    "print(wn.synset('dainty.s.04').lemma_names())\n",
    "print(\"*\"*50)"
   ]
  },
  {
   "cell_type": "code",
   "execution_count": 138,
   "metadata": {
    "collapsed": false
   },
   "outputs": [
    {
     "name": "stdout",
     "output_type": "stream",
     "text": [
      "**************************************************\n",
      "the act of drilling\n",
      "[u'drilling', u'boring']\n",
      "**************************************************\n",
      "the act of drilling a hole in the earth in the hope of producing petroleum\n",
      "[u'boring', u'drilling', u'oil_production']\n",
      "**************************************************\n",
      "cause to be bored\n",
      "[u'bore', u'tire']\n",
      "**************************************************\n",
      "make a hole, especially with a pointed power or hand tool\n",
      "[u'bore', u'drill']\n",
      "**************************************************\n",
      "so lacking in interest as to cause mental weariness\n",
      "[u'boring', u'deadening', u'dull', u'ho-hum', u'irksome', u'slow', u'tedious', u'tiresome', u'wearisome']\n"
     ]
    }
   ],
   "source": [
    "for synset in wn.synsets('boring'):\n",
    "    print(\"*\"*50)\n",
    "    print(synset.definition())\n",
    "    print(synset.lemma_names())\n",
    "    "
   ]
  },
  {
   "cell_type": "code",
   "execution_count": 145,
   "metadata": {
    "collapsed": false
   },
   "outputs": [
    {
     "name": "stdout",
     "output_type": "stream",
     "text": [
      "[Lemma('drilling.n.01.boring'), Lemma('boring.n.02.boring'), Lemma('boring.s.01.boring')]\n",
      "[Lemma('fantastic.s.02.wonderful')]\n",
      "[Lemma('dazzling.s.01.dazzling'), Lemma('blazing.s.01.dazzling')]\n"
     ]
    }
   ],
   "source": [
    "# Also\n",
    "print(wn.lemmas('boring'))\n",
    "print(wn.lemmas('wonderful'))\n",
    "print(wn.lemmas('dazzling'))"
   ]
  },
  {
   "cell_type": "code",
   "execution_count": 153,
   "metadata": {
    "collapsed": false
   },
   "outputs": [
    {
     "name": "stdout",
     "output_type": "stream",
     "text": [
      "[Lemma('dish.n.01.dish'), Lemma('dish.n.02.dish'), Lemma('dish.n.03.dish'), Lemma('smasher.n.02.dish'), Lemma('dish.n.05.dish'), Lemma('cup_of_tea.n.01.dish'), Lemma('serve.v.06.dish'), Lemma('dish.v.02.dish')]\n",
      "= = = = = = = = = = = = = = = = = = = = = = = = = = = = = = = = = = = = = = = = = = = = = = = = = = \n",
      "**************************************************\n",
      "a piece of dishware normally used as a container for holding or serving food\n",
      "[u'dish']\n",
      "**************************************************\n",
      "a particular item of prepared food\n",
      "[u'dish']\n",
      "**************************************************\n",
      "the quantity that a dish will hold\n",
      "[u'dish', u'dishful']\n",
      "**************************************************\n",
      "a very attractive or seductive looking woman\n",
      "[u'smasher', u'stunner', u'knockout', u'beauty', u'ravisher', u'sweetheart', u'peach', u'lulu', u'looker', u'mantrap', u'dish']\n",
      "**************************************************\n",
      "directional antenna consisting of a parabolic reflector for microwave or radio frequency radiation\n",
      "[u'dish', u'dish_aerial', u'dish_antenna', u'saucer']\n",
      "**************************************************\n",
      "an activity that you like or at which you are superior\n",
      "[u'cup_of_tea', u'bag', u'dish']\n",
      "**************************************************\n",
      "provide (usually but not necessarily food)\n",
      "[u'serve', u'serve_up', u'dish_out', u'dish_up', u'dish']\n",
      "**************************************************\n",
      "make concave; shape like a dish\n",
      "[u'dish']\n"
     ]
    }
   ],
   "source": [
    "# dish!\n",
    "print(wn.lemmas('dish'))\n",
    "print(\"= \"*50)\n",
    "for synset in wn.synsets('dish'):\n",
    "    print(\"*\"*50)\n",
    "    print(synset.definition())\n",
    "    print(synset.lemma_names())"
   ]
  },
  {
   "cell_type": "code",
   "execution_count": 198,
   "metadata": {
    "collapsed": false
   },
   "outputs": [
    {
     "name": "stdout",
     "output_type": "stream",
     "text": [
      "Happy.a.01: enjoying or showing or marked by joy or pleasure\n",
      "Felicitous.s.02: marked by good fortune\n",
      "Glad.s.02: eagerly disposed to act or to be of service\n",
      "Happy.s.04: well expressed and to the point\n",
      "Gladiolus.n.01: any of numerous plants of the genus Gladiolus native chiefly to tropical and South Africa having sword-shaped leaves and one-sided spikes of brightly colored funnel-shaped flowers; widely cultivated\n",
      "Glad.a.01: showing or causing joy and pleasure; especially made happy\n",
      "Glad.s.02: eagerly disposed to act or to be of service\n",
      "Glad.s.03: feeling happy appreciation\n",
      "Beaming.s.01: cheerful and bright\n",
      "Joyful.a.01: full of or producing joy\n",
      "Elated.s.02: full of high-spirited delight\n",
      "Joyous.a.01: full of or characterized by joy\n"
     ]
    }
   ],
   "source": [
    "def get_definitions(word):\n",
    "    for synset in wn.synsets(word):\n",
    "        try:\n",
    "            print synset.name().capitalize() + ':', synset.definition() # capitalizing to give the feel of a dict entry\n",
    "        except:\n",
    "            continue\n",
    "            \n",
    "happy_words=[\"happy\", \"glad\", \"joyful\", \"joyous\", \"exhuberant\"]\n",
    "for w in happy_words:\n",
    "    get_definitions(w)\n",
    "\n",
    "#for synset in wn.synsets('mint', wn.NOUN):\n",
    "#...     print(synset.name() + ':', synset.definition())\n"
   ]
  },
  {
   "cell_type": "code",
   "execution_count": null,
   "metadata": {
    "collapsed": true
   },
   "outputs": [],
   "source": []
  },
  {
   "cell_type": "code",
   "execution_count": null,
   "metadata": {
    "collapsed": true
   },
   "outputs": [],
   "source": []
  },
  {
   "cell_type": "code",
   "execution_count": null,
   "metadata": {
    "collapsed": true
   },
   "outputs": [],
   "source": []
  },
  {
   "cell_type": "code",
   "execution_count": null,
   "metadata": {
    "collapsed": true
   },
   "outputs": [],
   "source": []
  },
  {
   "cell_type": "code",
   "execution_count": 157,
   "metadata": {
    "collapsed": false
   },
   "outputs": [
    {
     "name": "stdout",
     "output_type": "stream",
     "text": [
      "[u'happy']\n",
      "[u'felicitous', u'happy']\n",
      "[u'glad', u'happy']\n",
      "[u'happy', u'well-chosen']\n",
      "[u'gladiolus', u'gladiola', u'glad', u'sword_lily']\n",
      "[u'glad']\n",
      "[u'glad', u'happy']\n",
      "[u'glad']\n",
      "[u'beaming', u'glad']\n",
      "[u'joyful']\n",
      "[u'elated', u'gleeful', u'joyful', u'jubilant']\n",
      "[u'joyous']\n"
     ]
    }
   ],
   "source": [
    "def get_lemma_names(word):\n",
    "    for synset in wn.synsets(word):\n",
    "        try:\n",
    "            print(synset.lemma_names())\n",
    "        except:\n",
    "            continue\n",
    "            \n",
    "happy_words=[\"happy\", \"glad\", \"joyful\", \"joyous\", \"exhuberant\"]\n",
    "for w in happy_words:\n",
    "    get_lemma_names(w)"
   ]
  },
  {
   "cell_type": "code",
   "execution_count": 185,
   "metadata": {
    "collapsed": false
   },
   "outputs": [
    {
     "name": "stdout",
     "output_type": "stream",
     "text": [
      "set([u'felicitous', u'well-chosen', u'glad', u'happy'])\n",
      "set([u'gladiolus', u'beaming', u'sword_lily', u'gladiola', u'glad', u'happy'])\n",
      "set([u'elated', u'jubilant', u'joyful', u'gleeful'])\n",
      "set([u'joyous'])\n",
      "set([])\n",
      "**************************************************\n",
      "\n",
      "Here's a single unique list/set:\n",
      "\n",
      "set([u'elated', u'gladiolus', u'beaming', u'joyous', u'sword_lily', u'well-chosen', u'felicitous', u'jubilant', u'gleeful', u'gladiola', u'joyful', u'glad', u'happy'])\n"
     ]
    }
   ],
   "source": [
    "def get_unique_lemma_names(word):\n",
    "    l=[]\n",
    "    for synset in wn.synsets(word):\n",
    "        try:\n",
    "            l.extend(synset.lemma_names())\n",
    "        except:\n",
    "            continue\n",
    "    l=set(l)\n",
    "    return l\n",
    "\n",
    "happy_words=[\"happy\", \"glad\", \"joyful\", \"joyous\", \"exhuberant\"]\n",
    "for w in happy_words:\n",
    "    l=get_unique_lemma_names(w)\n",
    "    print(l)\n",
    "\n",
    "# To get a set\n",
    "print(\"*\"*50)\n",
    "print(\"\\nHere's a single unique list/set:\\n\")\n",
    "uniq_list=[]\n",
    "for w in happy_words:\n",
    "    l=get_unique_lemma_names(w)\n",
    "    uniq_list.extend(l)\n",
    "print(set(uniq_list))"
   ]
  },
  {
   "cell_type": "code",
   "execution_count": 190,
   "metadata": {
    "collapsed": false
   },
   "outputs": [
    {
     "name": "stdout",
     "output_type": "stream",
     "text": [
      "Synset('ambulance.n.01')\n",
      "**************************************************\n",
      "[u'Model_T', u'S.U.V.', u'SUV', u'Stanley_Steamer', u'ambulance', u'beach_waggon', u'beach_wagon', u'bus', u'cab', u'compact', u'compact_car', u'convertible', u'coupe', u'cruiser', u'electric', u'electric_automobile', u'electric_car', u'estate_car', u'gas_guzzler', u'hack', u'hardtop', u'hatchback', u'heap', u'horseless_carriage', u'hot-rod', u'hot_rod', u'jalopy', u'jeep', u'landrover', u'limo', u'limousine', u'loaner', u'minicar', u'minivan', u'pace_car', u'patrol_car', u'phaeton', u'police_car', u'police_cruiser', u'prowl_car', u'race_car', u'racer', u'racing_car', u'roadster', u'runabout', u'saloon', u'secondhand_car', u'sedan', u'sport_car', u'sport_utility', u'sport_utility_vehicle', u'sports_car', u'squad_car', u'station_waggon', u'station_wagon', u'stock_car', u'subcompact', u'subcompact_car', u'taxi', u'taxicab', u'tourer', u'touring_car', u'two-seater', u'used-car', u'waggon', u'wagon']\n",
      "**************************************************\n",
      "ambulance beach_wagon station_wagon wagon estate_car beach_waggon station_waggon waggon bus jalopy heap cab hack taxi taxicab compact compact_car convertible coupe cruiser police_cruiser patrol_car police_car prowl_car squad_car electric electric_automobile electric_car gas_guzzler hardtop hatchback horseless_carriage hot_rod hot-rod jeep landrover limousine limo loaner minicar minivan Model_T pace_car racer race_car racing_car roadster runabout two-seater sedan saloon sport_utility sport_utility_vehicle S.U.V. SUV sports_car sport_car Stanley_Steamer stock_car subcompact subcompact_car touring_car phaeton tourer used-car secondhand_car\n"
     ]
    }
   ],
   "source": [
    "#Nice example from the book (http://www.nltk.org/book/ch02.html)\n",
    "motorcar = wn.synset('car.n.01')\n",
    "types_of_motorcar = motorcar.hyponyms()\n",
    "print(types_of_motorcar[0]) # prints: Synset('ambulance.n.01')\n",
    "print(\"*\"*50)\n",
    "print(sorted(lemma.name() for synset in types_of_motorcar for lemma in synset.lemmas()))\n",
    "print(\"*\"*50)\n",
    "\n",
    "# Remember, the tuple coprehension can be broken down as follows (with no sorting):\n",
    "for synset in types_of_motorcar:\n",
    "    for lemma in synset.lemmas():\n",
    "        print(lemma.name()),"
   ]
  },
  {
   "cell_type": "code",
   "execution_count": 193,
   "metadata": {
    "collapsed": false
   },
   "outputs": [
    {
     "name": "stdout",
     "output_type": "stream",
     "text": [
      "[Synset('motor_vehicle.n.01')]\n",
      "2\n",
      "\n",
      "Path 1\n",
      "[u'entity.n.01', u'physical_entity.n.01', u'object.n.01', u'whole.n.02', u'artifact.n.01', u'instrumentality.n.03', u'container.n.01', u'wheeled_vehicle.n.01', u'self-propelled_vehicle.n.01', u'motor_vehicle.n.01', u'car.n.01']\n",
      "\n",
      "Path 2\n",
      "[u'entity.n.01', u'physical_entity.n.01', u'object.n.01', u'whole.n.02', u'artifact.n.01', u'instrumentality.n.03', u'conveyance.n.03', u'vehicle.n.01', u'wheeled_vehicle.n.01', u'self-propelled_vehicle.n.01', u'motor_vehicle.n.01', u'car.n.01']\n"
     ]
    }
   ],
   "source": [
    "# Another useful example, this time on hypernyms:\n",
    "motorcar = wn.synset('car.n.01')\n",
    "print(motorcar.hypernyms()) # prints: [Synset('motor_vehicle.n.01')]\n",
    "\n",
    "paths = motorcar.hypernym_paths()\n",
    "print(len(paths)) # prints 2 as there are two paths, as the book states, between car.n.01 and entity.n.01 \n",
    "                  # because wheeled_vehicle.n.01 can be classified as both a vehicle and a container.\n",
    "                  # Take a look at the output below\n",
    "\n",
    "print(\"\\nPath 1 between car.n.01 and entity.n.01\")\n",
    "print([synset.name() for synset in paths[0]])\n",
    "print(\"\\nPath 2 between car.n.01 and entity.n.01\")\n",
    "print([synset.name() for synset in paths[1]])"
   ]
  },
  {
   "cell_type": "code",
   "execution_count": null,
   "metadata": {
    "collapsed": true
   },
   "outputs": [],
   "source": [
    "# Try the graphical WordNet browser from your command line:\n",
    "nltk.app.wordnet()"
   ]
  },
  {
   "cell_type": "code",
   "execution_count": null,
   "metadata": {
    "collapsed": true
   },
   "outputs": [],
   "source": [
    "# Similarity"
   ]
  },
  {
   "cell_type": "code",
   "execution_count": 227,
   "metadata": {
    "collapsed": false
   },
   "outputs": [
    {
     "name": "stdout",
     "output_type": "stream",
     "text": [
      "[Synset('lilac.n.01'), Synset('lavender.s.01')]\n",
      "[Synset('tulip.n.01')]\n",
      "[Synset('flower.n.01'), Synset('flower.n.02'), Synset('flower.n.03'), Synset('bloom.v.01')]\n",
      "[Synset('tree.n.01'), Synset('tree.n.02'), Synset('tree.n.03'), Synset('corner.v.02'), Synset('tree.v.02'), Synset('tree.v.03'), Synset('tree.v.04')]\n",
      "[Synset('daffodil.n.01')]\n",
      "**************************************************\n",
      "[Synset('flower.n.01')]\n",
      "[Synset('orchid.n.01')]\n",
      "[Synset('vascular_plant.n.01')]\n",
      "[Synset('vascular_plant.n.01')]\n"
     ]
    }
   ],
   "source": [
    "from nltk.corpus import wordnet as wn\n",
    "print(wn.synsets('lilac'))\n",
    "print(wn.synsets('tulip'))\n",
    "print(wn.synsets('flower'))\n",
    "print(wn.synsets('tree'))\n",
    "print(wn.synsets('daffodil'))\n",
    "#--------------------------\n",
    "print(\"*\"*50)\n",
    "african = wn.synset('african_daisy.n.01')\n",
    "orchid = wn.synset('orchid.n.01')\n",
    "scarlet = wn.synset('scarlet_musk_flower.n.01')\n",
    "aster = wn.synset('white-topped_aster.n.01')\n",
    "tree = wn.synset('tree.n.01')\n",
    "daffodil = wn.synset('daffodil.n.01')\n",
    "#--------------------------\n",
    "print(\"*\"*50)\n",
    "print(african.lowest_common_hypernyms(orchid))\n",
    "print(orchid.lowest_common_hypernyms(orchid))\n",
    "print(scarlet.lowest_common_hypernyms(tree))\n",
    "print(aster.lowest_common_hypernyms(daffodil))\n",
    "#print(wn.synset('flower.n.01').hypernyms())\n",
    "#print(wn.synset('flower.n.01').hyponyms())"
   ]
  },
  {
   "cell_type": "code",
   "execution_count": null,
   "metadata": {
    "collapsed": true
   },
   "outputs": [],
   "source": []
  },
  {
   "cell_type": "code",
   "execution_count": null,
   "metadata": {
    "collapsed": true
   },
   "outputs": [],
   "source": []
  },
  {
   "cell_type": "code",
   "execution_count": null,
   "metadata": {
    "collapsed": true
   },
   "outputs": [],
   "source": []
  },
  {
   "cell_type": "code",
   "execution_count": null,
   "metadata": {
    "collapsed": true
   },
   "outputs": [],
   "source": []
  },
  {
   "cell_type": "code",
   "execution_count": null,
   "metadata": {
    "collapsed": true
   },
   "outputs": [],
   "source": []
  },
  {
   "cell_type": "code",
   "execution_count": null,
   "metadata": {
    "collapsed": true
   },
   "outputs": [],
   "source": []
  },
  {
   "cell_type": "code",
   "execution_count": null,
   "metadata": {
    "collapsed": true
   },
   "outputs": [],
   "source": []
  },
  {
   "cell_type": "code",
   "execution_count": null,
   "metadata": {
    "collapsed": true
   },
   "outputs": [],
   "source": []
  },
  {
   "cell_type": "code",
   "execution_count": null,
   "metadata": {
    "collapsed": true
   },
   "outputs": [],
   "source": []
  },
  {
   "cell_type": "code",
   "execution_count": null,
   "metadata": {
    "collapsed": true
   },
   "outputs": [],
   "source": []
  },
  {
   "cell_type": "code",
   "execution_count": null,
   "metadata": {
    "collapsed": true
   },
   "outputs": [],
   "source": []
  },
  {
   "cell_type": "code",
   "execution_count": null,
   "metadata": {
    "collapsed": true
   },
   "outputs": [],
   "source": []
  },
  {
   "cell_type": "code",
   "execution_count": null,
   "metadata": {
    "collapsed": true
   },
   "outputs": [],
   "source": []
  },
  {
   "cell_type": "code",
   "execution_count": null,
   "metadata": {
    "collapsed": true
   },
   "outputs": [],
   "source": []
  },
  {
   "cell_type": "code",
   "execution_count": null,
   "metadata": {
    "collapsed": true
   },
   "outputs": [],
   "source": []
  },
  {
   "cell_type": "code",
   "execution_count": null,
   "metadata": {
    "collapsed": true
   },
   "outputs": [],
   "source": []
  },
  {
   "cell_type": "code",
   "execution_count": null,
   "metadata": {
    "collapsed": true
   },
   "outputs": [],
   "source": []
  },
  {
   "cell_type": "code",
   "execution_count": null,
   "metadata": {
    "collapsed": true
   },
   "outputs": [],
   "source": []
  },
  {
   "cell_type": "code",
   "execution_count": null,
   "metadata": {
    "collapsed": true
   },
   "outputs": [],
   "source": []
  },
  {
   "cell_type": "code",
   "execution_count": null,
   "metadata": {
    "collapsed": true
   },
   "outputs": [],
   "source": []
  },
  {
   "cell_type": "code",
   "execution_count": null,
   "metadata": {
    "collapsed": true
   },
   "outputs": [],
   "source": []
  },
  {
   "cell_type": "code",
   "execution_count": null,
   "metadata": {
    "collapsed": true
   },
   "outputs": [],
   "source": []
  },
  {
   "cell_type": "code",
   "execution_count": null,
   "metadata": {
    "collapsed": true
   },
   "outputs": [],
   "source": []
  },
  {
   "cell_type": "code",
   "execution_count": null,
   "metadata": {
    "collapsed": true
   },
   "outputs": [],
   "source": []
  },
  {
   "cell_type": "code",
   "execution_count": null,
   "metadata": {
    "collapsed": true
   },
   "outputs": [],
   "source": []
  },
  {
   "cell_type": "code",
   "execution_count": null,
   "metadata": {
    "collapsed": true
   },
   "outputs": [],
   "source": []
  },
  {
   "cell_type": "code",
   "execution_count": null,
   "metadata": {
    "collapsed": true
   },
   "outputs": [],
   "source": []
  },
  {
   "cell_type": "code",
   "execution_count": null,
   "metadata": {
    "collapsed": true
   },
   "outputs": [],
   "source": []
  },
  {
   "cell_type": "code",
   "execution_count": null,
   "metadata": {
    "collapsed": true
   },
   "outputs": [],
   "source": []
  },
  {
   "cell_type": "code",
   "execution_count": null,
   "metadata": {
    "collapsed": true
   },
   "outputs": [],
   "source": []
  },
  {
   "cell_type": "code",
   "execution_count": null,
   "metadata": {
    "collapsed": true
   },
   "outputs": [],
   "source": []
  },
  {
   "cell_type": "code",
   "execution_count": null,
   "metadata": {
    "collapsed": true
   },
   "outputs": [],
   "source": []
  },
  {
   "cell_type": "code",
   "execution_count": null,
   "metadata": {
    "collapsed": true
   },
   "outputs": [],
   "source": []
  },
  {
   "cell_type": "code",
   "execution_count": null,
   "metadata": {
    "collapsed": true
   },
   "outputs": [],
   "source": []
  },
  {
   "cell_type": "code",
   "execution_count": null,
   "metadata": {
    "collapsed": true
   },
   "outputs": [],
   "source": []
  },
  {
   "cell_type": "code",
   "execution_count": null,
   "metadata": {
    "collapsed": true
   },
   "outputs": [],
   "source": []
  },
  {
   "cell_type": "code",
   "execution_count": null,
   "metadata": {
    "collapsed": true
   },
   "outputs": [],
   "source": []
  },
  {
   "cell_type": "code",
   "execution_count": null,
   "metadata": {
    "collapsed": true
   },
   "outputs": [],
   "source": []
  },
  {
   "cell_type": "code",
   "execution_count": null,
   "metadata": {
    "collapsed": true
   },
   "outputs": [],
   "source": []
  },
  {
   "cell_type": "code",
   "execution_count": null,
   "metadata": {
    "collapsed": true
   },
   "outputs": [],
   "source": []
  },
  {
   "cell_type": "code",
   "execution_count": null,
   "metadata": {
    "collapsed": true
   },
   "outputs": [],
   "source": []
  },
  {
   "cell_type": "code",
   "execution_count": null,
   "metadata": {
    "collapsed": true
   },
   "outputs": [],
   "source": []
  },
  {
   "cell_type": "code",
   "execution_count": null,
   "metadata": {
    "collapsed": true
   },
   "outputs": [],
   "source": []
  },
  {
   "cell_type": "code",
   "execution_count": null,
   "metadata": {
    "collapsed": true
   },
   "outputs": [],
   "source": []
  },
  {
   "cell_type": "code",
   "execution_count": null,
   "metadata": {
    "collapsed": true
   },
   "outputs": [],
   "source": []
  },
  {
   "cell_type": "code",
   "execution_count": null,
   "metadata": {
    "collapsed": true
   },
   "outputs": [],
   "source": []
  },
  {
   "cell_type": "code",
   "execution_count": null,
   "metadata": {
    "collapsed": true
   },
   "outputs": [],
   "source": []
  },
  {
   "cell_type": "code",
   "execution_count": null,
   "metadata": {
    "collapsed": true
   },
   "outputs": [],
   "source": []
  },
  {
   "cell_type": "code",
   "execution_count": null,
   "metadata": {
    "collapsed": true
   },
   "outputs": [],
   "source": []
  },
  {
   "cell_type": "code",
   "execution_count": null,
   "metadata": {
    "collapsed": true
   },
   "outputs": [],
   "source": []
  },
  {
   "cell_type": "code",
   "execution_count": 164,
   "metadata": {
    "collapsed": false
   },
   "outputs": [
    {
     "ename": "AttributeError",
     "evalue": "'list' object has no attribute 'lower'",
     "output_type": "error",
     "traceback": [
      "\u001b[0;31m---------------------------------------------------------------------------\u001b[0m",
      "\u001b[0;31mAttributeError\u001b[0m                            Traceback (most recent call last)",
      "\u001b[0;32m<ipython-input-164-06f2d72e1996>\u001b[0m in \u001b[0;36m<module>\u001b[0;34m()\u001b[0m\n\u001b[1;32m     19\u001b[0m \u001b[0mhappy_words\u001b[0m\u001b[0;34m=\u001b[0m\u001b[0;34m[\u001b[0m\u001b[0;34m\"happy\"\u001b[0m\u001b[0;34m,\u001b[0m \u001b[0;34m\"glad\"\u001b[0m\u001b[0;34m,\u001b[0m \u001b[0;34m\"joyful\"\u001b[0m\u001b[0;34m,\u001b[0m \u001b[0;34m\"joyous\"\u001b[0m\u001b[0;34m,\u001b[0m \u001b[0;34m\"exhuberant\"\u001b[0m\u001b[0;34m]\u001b[0m\u001b[0;34m\u001b[0m\u001b[0m\n\u001b[1;32m     20\u001b[0m \u001b[0;34m\u001b[0m\u001b[0m\n\u001b[0;32m---> 21\u001b[0;31m \u001b[0ml\u001b[0m\u001b[0;34m=\u001b[0m\u001b[0mget_unique_lemma_names\u001b[0m\u001b[0;34m(\u001b[0m\u001b[0mhappy_words\u001b[0m\u001b[0;34m)\u001b[0m\u001b[0;34m\u001b[0m\u001b[0m\n\u001b[0m\u001b[1;32m     22\u001b[0m \u001b[0;32mprint\u001b[0m\u001b[0;34m(\u001b[0m\u001b[0ml\u001b[0m\u001b[0;34m)\u001b[0m\u001b[0;34m\u001b[0m\u001b[0m\n",
      "\u001b[0;32m<ipython-input-161-1889fc70aa39>\u001b[0m in \u001b[0;36mget_unique_lemma_names\u001b[0;34m(word)\u001b[0m\n\u001b[1;32m      1\u001b[0m \u001b[0;32mdef\u001b[0m \u001b[0mget_unique_lemma_names\u001b[0m\u001b[0;34m(\u001b[0m\u001b[0mword\u001b[0m\u001b[0;34m)\u001b[0m\u001b[0;34m:\u001b[0m\u001b[0;34m\u001b[0m\u001b[0m\n\u001b[1;32m      2\u001b[0m     \u001b[0ml\u001b[0m\u001b[0;34m=\u001b[0m\u001b[0;34m[\u001b[0m\u001b[0;34m]\u001b[0m\u001b[0;34m\u001b[0m\u001b[0m\n\u001b[0;32m----> 3\u001b[0;31m     \u001b[0;32mfor\u001b[0m \u001b[0msynset\u001b[0m \u001b[0;32min\u001b[0m \u001b[0mwn\u001b[0m\u001b[0;34m.\u001b[0m\u001b[0msynsets\u001b[0m\u001b[0;34m(\u001b[0m\u001b[0mword\u001b[0m\u001b[0;34m)\u001b[0m\u001b[0;34m:\u001b[0m\u001b[0;34m\u001b[0m\u001b[0m\n\u001b[0m\u001b[1;32m      4\u001b[0m         \u001b[0;32mtry\u001b[0m\u001b[0;34m:\u001b[0m\u001b[0;34m\u001b[0m\u001b[0m\n\u001b[1;32m      5\u001b[0m             \u001b[0ml\u001b[0m\u001b[0;34m.\u001b[0m\u001b[0mextend\u001b[0m\u001b[0;34m(\u001b[0m\u001b[0msynset\u001b[0m\u001b[0;34m.\u001b[0m\u001b[0mlemma_names\u001b[0m\u001b[0;34m(\u001b[0m\u001b[0;34m)\u001b[0m\u001b[0;34m)\u001b[0m\u001b[0;34m\u001b[0m\u001b[0m\n",
      "\u001b[0;32m/opt/local/Library/Frameworks/Python.framework/Versions/2.7/lib/python2.7/site-packages/nltk/corpus/reader/wordnet.pyc\u001b[0m in \u001b[0;36msynsets\u001b[0;34m(self, lemma, pos, lang)\u001b[0m\n\u001b[1;32m   1402\u001b[0m         \u001b[0mof\u001b[0m \u001b[0mthat\u001b[0m \u001b[0mlanguage\u001b[0m \u001b[0mwill\u001b[0m \u001b[0mbe\u001b[0m \u001b[0mreturned\u001b[0m\u001b[0;34m.\u001b[0m\u001b[0;34m\u001b[0m\u001b[0m\n\u001b[1;32m   1403\u001b[0m         \"\"\"\n\u001b[0;32m-> 1404\u001b[0;31m         \u001b[0mlemma\u001b[0m \u001b[0;34m=\u001b[0m \u001b[0mlemma\u001b[0m\u001b[0;34m.\u001b[0m\u001b[0mlower\u001b[0m\u001b[0;34m(\u001b[0m\u001b[0;34m)\u001b[0m\u001b[0;34m\u001b[0m\u001b[0m\n\u001b[0m\u001b[1;32m   1405\u001b[0m \u001b[0;34m\u001b[0m\u001b[0m\n\u001b[1;32m   1406\u001b[0m         \u001b[0;32mif\u001b[0m \u001b[0mlang\u001b[0m \u001b[0;34m==\u001b[0m \u001b[0;34m'en'\u001b[0m\u001b[0;34m:\u001b[0m\u001b[0;34m\u001b[0m\u001b[0m\n",
      "\u001b[0;31mAttributeError\u001b[0m: 'list' object has no attribute 'lower'"
     ]
    }
   ],
   "source": []
  },
  {
   "cell_type": "code",
   "execution_count": null,
   "metadata": {
    "collapsed": true
   },
   "outputs": [],
   "source": []
  },
  {
   "cell_type": "code",
   "execution_count": null,
   "metadata": {
    "collapsed": true
   },
   "outputs": [],
   "source": []
  },
  {
   "cell_type": "code",
   "execution_count": null,
   "metadata": {
    "collapsed": true
   },
   "outputs": [],
   "source": []
  },
  {
   "cell_type": "code",
   "execution_count": null,
   "metadata": {
    "collapsed": true
   },
   "outputs": [],
   "source": []
  },
  {
   "cell_type": "code",
   "execution_count": null,
   "metadata": {
    "collapsed": true
   },
   "outputs": [],
   "source": []
  },
  {
   "cell_type": "code",
   "execution_count": null,
   "metadata": {
    "collapsed": true
   },
   "outputs": [],
   "source": []
  },
  {
   "cell_type": "code",
   "execution_count": null,
   "metadata": {
    "collapsed": true
   },
   "outputs": [],
   "source": []
  },
  {
   "cell_type": "code",
   "execution_count": null,
   "metadata": {
    "collapsed": true
   },
   "outputs": [],
   "source": []
  },
  {
   "cell_type": "code",
   "execution_count": null,
   "metadata": {
    "collapsed": true
   },
   "outputs": [],
   "source": []
  },
  {
   "cell_type": "code",
   "execution_count": null,
   "metadata": {
    "collapsed": true
   },
   "outputs": [],
   "source": []
  },
  {
   "cell_type": "code",
   "execution_count": null,
   "metadata": {
    "collapsed": true
   },
   "outputs": [],
   "source": []
  },
  {
   "cell_type": "code",
   "execution_count": null,
   "metadata": {
    "collapsed": true
   },
   "outputs": [],
   "source": []
  },
  {
   "cell_type": "code",
   "execution_count": null,
   "metadata": {
    "collapsed": true
   },
   "outputs": [],
   "source": []
  },
  {
   "cell_type": "code",
   "execution_count": null,
   "metadata": {
    "collapsed": true
   },
   "outputs": [],
   "source": []
  },
  {
   "cell_type": "code",
   "execution_count": null,
   "metadata": {
    "collapsed": true
   },
   "outputs": [],
   "source": []
  },
  {
   "cell_type": "code",
   "execution_count": null,
   "metadata": {
    "collapsed": true
   },
   "outputs": [],
   "source": []
  },
  {
   "cell_type": "code",
   "execution_count": null,
   "metadata": {
    "collapsed": true
   },
   "outputs": [],
   "source": []
  },
  {
   "cell_type": "code",
   "execution_count": null,
   "metadata": {
    "collapsed": true
   },
   "outputs": [],
   "source": []
  },
  {
   "cell_type": "code",
   "execution_count": null,
   "metadata": {
    "collapsed": true
   },
   "outputs": [],
   "source": []
  },
  {
   "cell_type": "code",
   "execution_count": null,
   "metadata": {
    "collapsed": true
   },
   "outputs": [],
   "source": []
  },
  {
   "cell_type": "code",
   "execution_count": null,
   "metadata": {
    "collapsed": true
   },
   "outputs": [],
   "source": []
  },
  {
   "cell_type": "code",
   "execution_count": null,
   "metadata": {
    "collapsed": true
   },
   "outputs": [],
   "source": []
  },
  {
   "cell_type": "code",
   "execution_count": null,
   "metadata": {
    "collapsed": true
   },
   "outputs": [],
   "source": []
  },
  {
   "cell_type": "code",
   "execution_count": null,
   "metadata": {
    "collapsed": true
   },
   "outputs": [],
   "source": []
  },
  {
   "cell_type": "code",
   "execution_count": null,
   "metadata": {
    "collapsed": true
   },
   "outputs": [],
   "source": []
  },
  {
   "cell_type": "code",
   "execution_count": null,
   "metadata": {
    "collapsed": true
   },
   "outputs": [],
   "source": []
  },
  {
   "cell_type": "code",
   "execution_count": null,
   "metadata": {
    "collapsed": true
   },
   "outputs": [],
   "source": []
  },
  {
   "cell_type": "code",
   "execution_count": null,
   "metadata": {
    "collapsed": true
   },
   "outputs": [],
   "source": []
  },
  {
   "cell_type": "code",
   "execution_count": null,
   "metadata": {
    "collapsed": true
   },
   "outputs": [],
   "source": []
  },
  {
   "cell_type": "code",
   "execution_count": null,
   "metadata": {
    "collapsed": true
   },
   "outputs": [],
   "source": []
  },
  {
   "cell_type": "code",
   "execution_count": null,
   "metadata": {
    "collapsed": true
   },
   "outputs": [],
   "source": []
  },
  {
   "cell_type": "code",
   "execution_count": null,
   "metadata": {
    "collapsed": true
   },
   "outputs": [],
   "source": []
  },
  {
   "cell_type": "code",
   "execution_count": null,
   "metadata": {
    "collapsed": true
   },
   "outputs": [],
   "source": []
  },
  {
   "cell_type": "code",
   "execution_count": null,
   "metadata": {
    "collapsed": true
   },
   "outputs": [],
   "source": []
  },
  {
   "cell_type": "code",
   "execution_count": null,
   "metadata": {
    "collapsed": true
   },
   "outputs": [],
   "source": []
  },
  {
   "cell_type": "code",
   "execution_count": null,
   "metadata": {
    "collapsed": true
   },
   "outputs": [],
   "source": []
  },
  {
   "cell_type": "code",
   "execution_count": null,
   "metadata": {
    "collapsed": true
   },
   "outputs": [],
   "source": []
  },
  {
   "cell_type": "code",
   "execution_count": null,
   "metadata": {
    "collapsed": true
   },
   "outputs": [],
   "source": []
  },
  {
   "cell_type": "code",
   "execution_count": null,
   "metadata": {
    "collapsed": true
   },
   "outputs": [],
   "source": []
  },
  {
   "cell_type": "code",
   "execution_count": null,
   "metadata": {
    "collapsed": true
   },
   "outputs": [],
   "source": []
  },
  {
   "cell_type": "code",
   "execution_count": null,
   "metadata": {
    "collapsed": true
   },
   "outputs": [],
   "source": []
  },
  {
   "cell_type": "code",
   "execution_count": null,
   "metadata": {
    "collapsed": true
   },
   "outputs": [],
   "source": []
  },
  {
   "cell_type": "code",
   "execution_count": null,
   "metadata": {
    "collapsed": true
   },
   "outputs": [],
   "source": []
  },
  {
   "cell_type": "code",
   "execution_count": null,
   "metadata": {
    "collapsed": true
   },
   "outputs": [],
   "source": []
  },
  {
   "cell_type": "code",
   "execution_count": null,
   "metadata": {
    "collapsed": true
   },
   "outputs": [],
   "source": []
  },
  {
   "cell_type": "code",
   "execution_count": null,
   "metadata": {
    "collapsed": true
   },
   "outputs": [],
   "source": []
  },
  {
   "cell_type": "code",
   "execution_count": null,
   "metadata": {
    "collapsed": true
   },
   "outputs": [],
   "source": []
  },
  {
   "cell_type": "code",
   "execution_count": null,
   "metadata": {
    "collapsed": true
   },
   "outputs": [],
   "source": []
  },
  {
   "cell_type": "code",
   "execution_count": null,
   "metadata": {
    "collapsed": true
   },
   "outputs": [],
   "source": []
  },
  {
   "cell_type": "code",
   "execution_count": null,
   "metadata": {
    "collapsed": true
   },
   "outputs": [],
   "source": []
  },
  {
   "cell_type": "code",
   "execution_count": null,
   "metadata": {
    "collapsed": true
   },
   "outputs": [],
   "source": []
  },
  {
   "cell_type": "code",
   "execution_count": null,
   "metadata": {
    "collapsed": true
   },
   "outputs": [],
   "source": []
  },
  {
   "cell_type": "code",
   "execution_count": null,
   "metadata": {
    "collapsed": true
   },
   "outputs": [],
   "source": []
  },
  {
   "cell_type": "code",
   "execution_count": null,
   "metadata": {
    "collapsed": true
   },
   "outputs": [],
   "source": []
  },
  {
   "cell_type": "code",
   "execution_count": null,
   "metadata": {
    "collapsed": true
   },
   "outputs": [],
   "source": []
  },
  {
   "cell_type": "code",
   "execution_count": null,
   "metadata": {
    "collapsed": true
   },
   "outputs": [],
   "source": []
  },
  {
   "cell_type": "code",
   "execution_count": null,
   "metadata": {
    "collapsed": true
   },
   "outputs": [],
   "source": []
  },
  {
   "cell_type": "code",
   "execution_count": null,
   "metadata": {
    "collapsed": true
   },
   "outputs": [],
   "source": []
  },
  {
   "cell_type": "code",
   "execution_count": null,
   "metadata": {
    "collapsed": true
   },
   "outputs": [],
   "source": []
  },
  {
   "cell_type": "code",
   "execution_count": null,
   "metadata": {
    "collapsed": true
   },
   "outputs": [],
   "source": []
  },
  {
   "cell_type": "code",
   "execution_count": null,
   "metadata": {
    "collapsed": true
   },
   "outputs": [],
   "source": []
  },
  {
   "cell_type": "code",
   "execution_count": null,
   "metadata": {
    "collapsed": true
   },
   "outputs": [],
   "source": []
  },
  {
   "cell_type": "code",
   "execution_count": null,
   "metadata": {
    "collapsed": true
   },
   "outputs": [],
   "source": []
  },
  {
   "cell_type": "code",
   "execution_count": null,
   "metadata": {
    "collapsed": true
   },
   "outputs": [],
   "source": []
  },
  {
   "cell_type": "code",
   "execution_count": null,
   "metadata": {
    "collapsed": true
   },
   "outputs": [],
   "source": []
  },
  {
   "cell_type": "code",
   "execution_count": null,
   "metadata": {
    "collapsed": true
   },
   "outputs": [],
   "source": []
  },
  {
   "cell_type": "code",
   "execution_count": null,
   "metadata": {
    "collapsed": true
   },
   "outputs": [],
   "source": []
  },
  {
   "cell_type": "code",
   "execution_count": null,
   "metadata": {
    "collapsed": true
   },
   "outputs": [],
   "source": []
  },
  {
   "cell_type": "code",
   "execution_count": null,
   "metadata": {
    "collapsed": true
   },
   "outputs": [],
   "source": []
  },
  {
   "cell_type": "code",
   "execution_count": null,
   "metadata": {
    "collapsed": true
   },
   "outputs": [],
   "source": []
  },
  {
   "cell_type": "code",
   "execution_count": null,
   "metadata": {
    "collapsed": true
   },
   "outputs": [],
   "source": []
  },
  {
   "cell_type": "code",
   "execution_count": null,
   "metadata": {
    "collapsed": true
   },
   "outputs": [],
   "source": []
  },
  {
   "cell_type": "code",
   "execution_count": null,
   "metadata": {
    "collapsed": true
   },
   "outputs": [],
   "source": []
  },
  {
   "cell_type": "code",
   "execution_count": null,
   "metadata": {
    "collapsed": true
   },
   "outputs": [],
   "source": []
  },
  {
   "cell_type": "code",
   "execution_count": null,
   "metadata": {
    "collapsed": true
   },
   "outputs": [],
   "source": []
  },
  {
   "cell_type": "code",
   "execution_count": null,
   "metadata": {
    "collapsed": true
   },
   "outputs": [],
   "source": []
  },
  {
   "cell_type": "code",
   "execution_count": null,
   "metadata": {
    "collapsed": true
   },
   "outputs": [],
   "source": []
  },
  {
   "cell_type": "code",
   "execution_count": null,
   "metadata": {
    "collapsed": true
   },
   "outputs": [],
   "source": []
  },
  {
   "cell_type": "code",
   "execution_count": null,
   "metadata": {
    "collapsed": true
   },
   "outputs": [],
   "source": []
  },
  {
   "cell_type": "code",
   "execution_count": null,
   "metadata": {
    "collapsed": true
   },
   "outputs": [],
   "source": []
  },
  {
   "cell_type": "code",
   "execution_count": null,
   "metadata": {
    "collapsed": true
   },
   "outputs": [],
   "source": []
  },
  {
   "cell_type": "code",
   "execution_count": null,
   "metadata": {
    "collapsed": true
   },
   "outputs": [],
   "source": []
  },
  {
   "cell_type": "code",
   "execution_count": null,
   "metadata": {
    "collapsed": true
   },
   "outputs": [],
   "source": []
  },
  {
   "cell_type": "code",
   "execution_count": null,
   "metadata": {
    "collapsed": true
   },
   "outputs": [],
   "source": []
  },
  {
   "cell_type": "code",
   "execution_count": null,
   "metadata": {
    "collapsed": true
   },
   "outputs": [],
   "source": []
  },
  {
   "cell_type": "code",
   "execution_count": null,
   "metadata": {
    "collapsed": true
   },
   "outputs": [],
   "source": []
  },
  {
   "cell_type": "code",
   "execution_count": null,
   "metadata": {
    "collapsed": true
   },
   "outputs": [],
   "source": []
  },
  {
   "cell_type": "code",
   "execution_count": null,
   "metadata": {
    "collapsed": true
   },
   "outputs": [],
   "source": []
  },
  {
   "cell_type": "code",
   "execution_count": null,
   "metadata": {
    "collapsed": true
   },
   "outputs": [],
   "source": []
  },
  {
   "cell_type": "code",
   "execution_count": null,
   "metadata": {
    "collapsed": true
   },
   "outputs": [],
   "source": []
  },
  {
   "cell_type": "code",
   "execution_count": null,
   "metadata": {
    "collapsed": true
   },
   "outputs": [],
   "source": []
  },
  {
   "cell_type": "code",
   "execution_count": null,
   "metadata": {
    "collapsed": true
   },
   "outputs": [],
   "source": []
  },
  {
   "cell_type": "code",
   "execution_count": null,
   "metadata": {
    "collapsed": true
   },
   "outputs": [],
   "source": []
  },
  {
   "cell_type": "code",
   "execution_count": null,
   "metadata": {
    "collapsed": true
   },
   "outputs": [],
   "source": []
  },
  {
   "cell_type": "code",
   "execution_count": null,
   "metadata": {
    "collapsed": true
   },
   "outputs": [],
   "source": []
  },
  {
   "cell_type": "code",
   "execution_count": null,
   "metadata": {
    "collapsed": true
   },
   "outputs": [],
   "source": []
  },
  {
   "cell_type": "code",
   "execution_count": null,
   "metadata": {
    "collapsed": true
   },
   "outputs": [],
   "source": []
  },
  {
   "cell_type": "code",
   "execution_count": null,
   "metadata": {
    "collapsed": true
   },
   "outputs": [],
   "source": []
  },
  {
   "cell_type": "code",
   "execution_count": null,
   "metadata": {
    "collapsed": true
   },
   "outputs": [],
   "source": []
  },
  {
   "cell_type": "code",
   "execution_count": null,
   "metadata": {
    "collapsed": true
   },
   "outputs": [],
   "source": []
  },
  {
   "cell_type": "code",
   "execution_count": null,
   "metadata": {
    "collapsed": true
   },
   "outputs": [],
   "source": []
  },
  {
   "cell_type": "code",
   "execution_count": null,
   "metadata": {
    "collapsed": true
   },
   "outputs": [],
   "source": []
  },
  {
   "cell_type": "code",
   "execution_count": null,
   "metadata": {
    "collapsed": true
   },
   "outputs": [],
   "source": []
  },
  {
   "cell_type": "code",
   "execution_count": null,
   "metadata": {
    "collapsed": true
   },
   "outputs": [],
   "source": []
  },
  {
   "cell_type": "code",
   "execution_count": null,
   "metadata": {
    "collapsed": true
   },
   "outputs": [],
   "source": []
  },
  {
   "cell_type": "code",
   "execution_count": null,
   "metadata": {
    "collapsed": true
   },
   "outputs": [],
   "source": []
  },
  {
   "cell_type": "code",
   "execution_count": null,
   "metadata": {
    "collapsed": true
   },
   "outputs": [],
   "source": []
  },
  {
   "cell_type": "code",
   "execution_count": null,
   "metadata": {
    "collapsed": true
   },
   "outputs": [],
   "source": []
  },
  {
   "cell_type": "code",
   "execution_count": null,
   "metadata": {
    "collapsed": true
   },
   "outputs": [],
   "source": []
  },
  {
   "cell_type": "code",
   "execution_count": null,
   "metadata": {
    "collapsed": true
   },
   "outputs": [],
   "source": []
  },
  {
   "cell_type": "code",
   "execution_count": null,
   "metadata": {
    "collapsed": true
   },
   "outputs": [],
   "source": []
  },
  {
   "cell_type": "code",
   "execution_count": null,
   "metadata": {
    "collapsed": true
   },
   "outputs": [],
   "source": []
  },
  {
   "cell_type": "code",
   "execution_count": null,
   "metadata": {
    "collapsed": true
   },
   "outputs": [],
   "source": []
  },
  {
   "cell_type": "code",
   "execution_count": null,
   "metadata": {
    "collapsed": true
   },
   "outputs": [],
   "source": []
  },
  {
   "cell_type": "code",
   "execution_count": null,
   "metadata": {
    "collapsed": true
   },
   "outputs": [],
   "source": []
  },
  {
   "cell_type": "code",
   "execution_count": null,
   "metadata": {
    "collapsed": true
   },
   "outputs": [],
   "source": []
  },
  {
   "cell_type": "code",
   "execution_count": null,
   "metadata": {
    "collapsed": true
   },
   "outputs": [],
   "source": []
  },
  {
   "cell_type": "code",
   "execution_count": null,
   "metadata": {
    "collapsed": true
   },
   "outputs": [],
   "source": []
  },
  {
   "cell_type": "code",
   "execution_count": null,
   "metadata": {
    "collapsed": true
   },
   "outputs": [],
   "source": []
  },
  {
   "cell_type": "code",
   "execution_count": null,
   "metadata": {
    "collapsed": true
   },
   "outputs": [],
   "source": []
  },
  {
   "cell_type": "code",
   "execution_count": null,
   "metadata": {
    "collapsed": true
   },
   "outputs": [],
   "source": []
  },
  {
   "cell_type": "code",
   "execution_count": null,
   "metadata": {
    "collapsed": true
   },
   "outputs": [],
   "source": []
  },
  {
   "cell_type": "code",
   "execution_count": null,
   "metadata": {
    "collapsed": true
   },
   "outputs": [],
   "source": []
  },
  {
   "cell_type": "code",
   "execution_count": null,
   "metadata": {
    "collapsed": true
   },
   "outputs": [],
   "source": []
  },
  {
   "cell_type": "code",
   "execution_count": null,
   "metadata": {
    "collapsed": true
   },
   "outputs": [],
   "source": []
  },
  {
   "cell_type": "code",
   "execution_count": null,
   "metadata": {
    "collapsed": true
   },
   "outputs": [],
   "source": []
  },
  {
   "cell_type": "code",
   "execution_count": null,
   "metadata": {
    "collapsed": true
   },
   "outputs": [],
   "source": []
  },
  {
   "cell_type": "code",
   "execution_count": null,
   "metadata": {
    "collapsed": true
   },
   "outputs": [],
   "source": []
  },
  {
   "cell_type": "code",
   "execution_count": null,
   "metadata": {
    "collapsed": true
   },
   "outputs": [],
   "source": []
  },
  {
   "cell_type": "code",
   "execution_count": null,
   "metadata": {
    "collapsed": true
   },
   "outputs": [],
   "source": []
  },
  {
   "cell_type": "code",
   "execution_count": null,
   "metadata": {
    "collapsed": true
   },
   "outputs": [],
   "source": []
  },
  {
   "cell_type": "code",
   "execution_count": null,
   "metadata": {
    "collapsed": true
   },
   "outputs": [],
   "source": []
  },
  {
   "cell_type": "code",
   "execution_count": null,
   "metadata": {
    "collapsed": true
   },
   "outputs": [],
   "source": []
  },
  {
   "cell_type": "code",
   "execution_count": null,
   "metadata": {
    "collapsed": true
   },
   "outputs": [],
   "source": []
  },
  {
   "cell_type": "code",
   "execution_count": null,
   "metadata": {
    "collapsed": true
   },
   "outputs": [],
   "source": []
  },
  {
   "cell_type": "code",
   "execution_count": null,
   "metadata": {
    "collapsed": true
   },
   "outputs": [],
   "source": []
  },
  {
   "cell_type": "code",
   "execution_count": null,
   "metadata": {
    "collapsed": true
   },
   "outputs": [],
   "source": []
  },
  {
   "cell_type": "code",
   "execution_count": null,
   "metadata": {
    "collapsed": true
   },
   "outputs": [],
   "source": []
  },
  {
   "cell_type": "code",
   "execution_count": null,
   "metadata": {
    "collapsed": true
   },
   "outputs": [],
   "source": []
  },
  {
   "cell_type": "code",
   "execution_count": null,
   "metadata": {
    "collapsed": true
   },
   "outputs": [],
   "source": []
  },
  {
   "cell_type": "code",
   "execution_count": null,
   "metadata": {
    "collapsed": true
   },
   "outputs": [],
   "source": []
  },
  {
   "cell_type": "code",
   "execution_count": 1,
   "metadata": {
    "collapsed": false
   },
   "outputs": [
    {
     "name": "stdout",
     "output_type": "stream",
     "text": [
      "hi\n"
     ]
    }
   ],
   "source": [
    "print \"hi\""
   ]
  },
  {
   "cell_type": "code",
   "execution_count": null,
   "metadata": {
    "collapsed": true
   },
   "outputs": [],
   "source": []
  },
  {
   "cell_type": "code",
   "execution_count": null,
   "metadata": {
    "collapsed": true
   },
   "outputs": [],
   "source": []
  },
  {
   "cell_type": "code",
   "execution_count": null,
   "metadata": {
    "collapsed": true
   },
   "outputs": [],
   "source": []
  },
  {
   "cell_type": "code",
   "execution_count": null,
   "metadata": {
    "collapsed": true
   },
   "outputs": [],
   "source": [
    "%matplotlib inline\n",
    "\n",
    "import matplotlib\n",
    "import numpy as np\n",
    "import matplotlib.pyplot as plt\n",
    "from nltk.draw.dispersion import dispersion_plot\n",
    "print(text4.dispersion_plot([\"citizens\", \"democracy\", \"freedom\", \"duties\", \"America\"]))"
   ]
  },
  {
   "cell_type": "code",
   "execution_count": null,
   "metadata": {
    "collapsed": true
   },
   "outputs": [],
   "source": [
    "%matplotlib inline\n",
    "import matplotlib.pyplot as plt\n",
    "import numpy as np\n",
    "\n",
    "\n",
    "x = np.linspace(0, 3*np.pi, 500)\n",
    "plt.plot(x, np.sin(x**2))\n",
    "plt.title('A simple chirp');\n",
    "\n"
   ]
  },
  {
   "cell_type": "code",
   "execution_count": null,
   "metadata": {
    "collapsed": true
   },
   "outputs": [],
   "source": [
    "#!/usr/bin/python\n",
    "%matplotlib inline\n",
    "import numpy as np\n",
    "import matplotlib.pyplot as plt\n",
    "#################################\n",
    "\n",
    "###################\n",
    "# Classification confidence per class:\n",
    "#--------------------------------------\n",
    "Account=[0.50597769529107606, 0.61137631750300769, 0.67732439371970943, 0.74335210285266851, 0.78045128083006687, 0.85889268848391032, 0.86004645511688793, 0.86034494338992484, 0.86110627662083916, 0.86385229563374299, 0.8652039704758846, 0.86629669936492792, 0.86714993874468849, 0.86951104057901096, 0.87107760241792387, 0.87433969633042807, 0.87731372225510584, 0.87786812374991918, 0.87810590629205709, 0.87892633430246814, 0.87915317999299925, 0.88066216034760669, 0.88408934521227001, 0.88469154406025774, 0.88796777230531254, 0.89044129384145887, 0.90267024623065706, 0.92524363229460704]\n",
    "Alert=[0.47637448264043625, 0.66454777829823419, 0.83611243185409068, 0.84343541279259093, 0.84407692188080419, 0.84691874602073758, 0.84846838467167951, 0.84885499324244018, 0.84892085388116045, 0.85662976488218612, 0.85748220725433, 0.85766843771151779, 0.86282314473652266, 0.88306412005817692, 0.90953193806965249]\n",
    "EventUpdate=[0.60620179952905806, 0.81414035159064524, 0.83977384250581455, 0.84197728312163245, 0.84665030060369317, 0.86063170708443371, 0.86556282358318515, 0.86670240801689957, 0.86730292811655896, 0.87129628595308339, 0.87179895532552454, 0.87237623417151511]\n",
    "purchasesAndPayments= [0.70209823840705454, 0.87763882598773824, 0.87853436781994654, 0.88111290254442187, 0.88188179857430626, 0.88427555688939874, 0.88575543579520666, 0.89021547578541182, 0.89111298147392382, 0.89325185353073655, 0.89699979308063715, 0.89711891518041997, 0.90022327360644228, 0.90038922055635651, 0.90352512667392848, 0.91167136191589293, 0.91258912510512546, 0.91292772595692206, 0.91385158396318156, 0.91514777255816948, 0.91598257367845204, 0.91620376194631981, 0.91624196881789599, 0.91629208488490144, 0.91682304964064509, 0.91685424758210343, 0.91773130126105062, 0.91859239740198162, 0.91885115720464194, 0.9189813690872739, 0.91942897543635649, 0.92005261642510894, 0.92031278031339603, 0.9206131773956312, 0.92162770964147711, 0.92333172011600717, 0.92368736632287529, 0.92445312588899153, 0.92487782965565768, 0.92585645404696637, 0.92736029109282003, 0.92745082086828889, 0.92853691341173528, 0.92974148319851113, 0.93038737495076018, 0.93268166532934882, 0.93485981648392313, 0.93560689873538494, 0.93792467408291125, 0.93990750368079101, 0.94138345097080245, 0.94171127507598984, 0.94257827570703179, 0.94278726547269032, 0.94591753032286208, 0.94684854929169837, 0.94778523908566703, 0.94938466710678737, 0.9501448612157134, 0.95149247851897123, 0.95239002506270776, 0.95375471665360612, 0.95562783008800667, 0.95780240099868053, 0.9578653435017056, 0.95787837810691678, 0.95826883828494502, 0.96152066593986663, 0.96162681902834768, 0.9642282884732325, 0.96529873521893783, 0.96552974107677436, 0.96639428810283956, 0.96678961265384455, 0.96687982068407863, 0.96873869536512358, 0.96880029214978958, 0.96947401140396405, 0.97052647680045956, 0.97057034041651968]\n",
    "TrackedInfo=[0.57856804762622893, 0.84336621528774514, 0.84726630715050089, 0.84865439463077963, 0.85259413447559007, 0.85367437726360995, 0.85572529471292957, 0.85595201321671999, 0.86019342820522748, 0.86280650298103134, 0.87695710743248556, 0.88755323066381953, 0.89051154523294096, 0.89159321691228055]\n",
    "Travel=[0.83341902931726042, 0.84109694886055264, 0.84915529812154522, 0.84965845310243482, 0.85351817819423192, 0.86268823869067024, 0.87021845881088733]\n",
    "\n",
    "def createHistogram(x, cat=\"Purchases and Payments\", color='green'):\n",
    "    \"\"\"\n",
    "    Plots an individual histogram.\n",
    "    \"\"\"\n",
    "    plt.hist(x, len(x)+20, normed=1, facecolor=color, alpha=0.75)\n",
    "    plt.xlabel('Confidence')\n",
    "    #plt.ylabel('Frequency')\n",
    "    plt.title(cat)\n",
    "    plt.grid(True)\n",
    "    plt.show()\n",
    "\n",
    "def createHist(x, cat=\"Purchases and Payments\", color='green'):\n",
    "    \"\"\"\n",
    "    Used as a helper function for creating individual histograms \n",
    "    inside the subplotter\n",
    "    \"\"\"\n",
    "    plt.hist(x, len(x)+20, normed=1, facecolor=color, alpha=0.75)\n",
    "    plt.xlabel('Confidence')\n",
    "    plt.title(cat)\n",
    "    plt.grid(True)\n",
    "    \n",
    "def subplotter():\n",
    "    \"\"\"\n",
    "    Subplots several histograms...\n",
    "    \"\"\"\n",
    "    plt.figure(figsize=(15,15))\n",
    "    plt.subplot(3,3 , 1 )\n",
    "    createHist(Account, cat=\"Account\", color=np.random.rand(3))\n",
    "    plt.subplot( 3,3, 2 )\n",
    "    createHist(Alert, cat=\"Alert\", color='magenta')\n",
    "    plt.subplot( 3,3, 3 )\n",
    "    createHist(EventUpdate, cat=\"Event Update\", color=np.random.rand(3))\n",
    "    plt.subplot( 3,3, 4 )\n",
    "    createHist(purchasesAndPayments, cat=\"Purchases and Payments\", color=np.random.rand(3))  \n",
    "    plt.subplot( 3,3, 5 )\n",
    "    createHist(TrackedInfo, cat=\"Tracked Info\", color=np.random.rand(3))\n",
    "    plt.subplot( 3,3, 6 )\n",
    "    createHist(Travel, cat=\"Travel\", color='y')\n",
    "    plt.show()\n",
    "\n",
    "def main():\n",
    "    subplotter()\n",
    "    # createHist(Account, cat=\"Account\")\n",
    "    # createHist(Alert, cat=\"Alert\", color='magenta')\n",
    "    # createHist(EventUpdate, cat=\"EventUpdate\", color='blue')\n",
    "    # createHist(purchasesAndPayments, cat=\"Purchases and Payments\", color=\"red\")\n",
    "    # createHist(TrackedInfo, cat=\"TrackedInfo\", color='brown')\n",
    "    # createHist(Travel, cat=\"Travel\", color='y')\n",
    "    \n",
    "    \n",
    "if __name__ == \"__main__\":\n",
    "    main()\n",
    "\n",
    "######################################\n",
    "# This is useful: http://cs.smith.edu/dftwiki/index.php/MatPlotLib_Tutorial_1\n",
    "#---------------------------------\n",
    "# This is about color maps: http://matplotlib.org/examples/color/colormaps_reference.html\n",
    "\n",
    "# cmaps = [('Sequential',     ['Blues', 'BuGn', 'BuPu',\n",
    "#                              'GnBu', 'Greens', 'Greys', 'Oranges', 'OrRd',\n",
    "#                              'PuBu', 'PuBuGn', 'PuRd', 'Purples', 'RdPu',\n",
    "#                              'Reds', 'YlGn', 'YlGnBu', 'YlOrBr', 'YlOrRd']),\n",
    "#          ('Sequential (2)', ['afmhot', 'autumn', 'bone', 'cool', 'copper',\n",
    "#                              'gist_heat', 'gray', 'hot', 'pink',\n",
    "#                              'spring', 'summer', 'winter']),\n",
    "#          ('Diverging',      ['BrBG', 'bwr', 'coolwarm', 'PiYG', 'PRGn', 'PuOr',\n",
    "#                              'RdBu', 'RdGy', 'RdYlBu', 'RdYlGn', 'Spectral',\n",
    "#                              'seismic']),\n",
    "#          ('Qualitative',    ['Accent', 'Dark2', 'Paired', 'Pastel1',\n",
    "#                              'Pastel2', 'Set1', 'Set2', 'Set3']),\n",
    "#          ('Miscellaneous',  ['gist_earth', 'terrain', 'ocean', 'gist_stern',\n",
    "#                              'brg', 'CMRmap', 'cubehelix',\n",
    "#                              'gnuplot', 'gnuplot2', 'gist_ncar',\n",
    "#                              'nipy_spectral', 'jet', 'rainbow',\n",
    "#                              'gist_rainbow', 'hsv', 'flag', 'prism'])]"
   ]
  },
  {
   "cell_type": "code",
   "execution_count": null,
   "metadata": {
    "collapsed": true
   },
   "outputs": [],
   "source": []
  },
  {
   "cell_type": "code",
   "execution_count": null,
   "metadata": {
    "collapsed": true
   },
   "outputs": [],
   "source": []
  },
  {
   "cell_type": "code",
   "execution_count": null,
   "metadata": {
    "collapsed": true
   },
   "outputs": [],
   "source": []
  },
  {
   "cell_type": "code",
   "execution_count": null,
   "metadata": {
    "collapsed": true
   },
   "outputs": [],
   "source": []
  },
  {
   "cell_type": "code",
   "execution_count": null,
   "metadata": {
    "collapsed": true
   },
   "outputs": [],
   "source": []
  },
  {
   "cell_type": "code",
   "execution_count": null,
   "metadata": {
    "collapsed": true
   },
   "outputs": [],
   "source": []
  },
  {
   "cell_type": "code",
   "execution_count": null,
   "metadata": {
    "collapsed": true
   },
   "outputs": [],
   "source": []
  },
  {
   "cell_type": "code",
   "execution_count": null,
   "metadata": {
    "collapsed": true
   },
   "outputs": [],
   "source": []
  },
  {
   "cell_type": "code",
   "execution_count": null,
   "metadata": {
    "collapsed": true
   },
   "outputs": [],
   "source": []
  },
  {
   "cell_type": "code",
   "execution_count": null,
   "metadata": {
    "collapsed": true
   },
   "outputs": [],
   "source": []
  },
  {
   "cell_type": "code",
   "execution_count": null,
   "metadata": {
    "collapsed": true
   },
   "outputs": [],
   "source": []
  },
  {
   "cell_type": "code",
   "execution_count": null,
   "metadata": {
    "collapsed": true
   },
   "outputs": [],
   "source": []
  },
  {
   "cell_type": "code",
   "execution_count": null,
   "metadata": {
    "collapsed": true
   },
   "outputs": [],
   "source": []
  },
  {
   "cell_type": "code",
   "execution_count": null,
   "metadata": {
    "collapsed": true
   },
   "outputs": [],
   "source": []
  },
  {
   "cell_type": "code",
   "execution_count": 78,
   "metadata": {
    "collapsed": true
   },
   "outputs": [],
   "source": []
  },
  {
   "cell_type": "code",
   "execution_count": null,
   "metadata": {
    "collapsed": true
   },
   "outputs": [],
   "source": []
  },
  {
   "cell_type": "code",
   "execution_count": null,
   "metadata": {
    "collapsed": true
   },
   "outputs": [],
   "source": []
  },
  {
   "cell_type": "code",
   "execution_count": null,
   "metadata": {
    "collapsed": true
   },
   "outputs": [],
   "source": []
  },
  {
   "cell_type": "code",
   "execution_count": null,
   "metadata": {
    "collapsed": true
   },
   "outputs": [],
   "source": []
  },
  {
   "cell_type": "code",
   "execution_count": null,
   "metadata": {
    "collapsed": true
   },
   "outputs": [],
   "source": []
  }
 ],
 "metadata": {
  "kernelspec": {
   "display_name": "Python 2",
   "language": "python",
   "name": "python2"
  },
  "language_info": {
   "codemirror_mode": {
    "name": "ipython",
    "version": 2
   },
   "file_extension": ".py",
   "mimetype": "text/x-python",
   "name": "python",
   "nbconvert_exporter": "python",
   "pygments_lexer": "ipython2",
   "version": "2.7.10"
  }
 },
 "nbformat": 4,
 "nbformat_minor": 0
}
