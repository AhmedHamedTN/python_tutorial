{
 "cells": [
  {
   "cell_type": "markdown",
   "metadata": {
    "collapsed": true
   },
   "source": [
    "# Python's collections module"
   ]
  },
  {
   "cell_type": "code",
   "execution_count": null,
   "metadata": {
    "collapsed": true
   },
   "outputs": [],
   "source": [
    "# Documentation: https://docs.python.org/2/library/collections.html\n",
    "# Per documentation, \"this module implements specialized container datatypes\\\n",
    "# providing alternatives to Python’s general purpose built-in containers, dict, list, set, and tuple\"."
   ]
  },
  {
   "cell_type": "code",
   "execution_count": 48,
   "metadata": {
    "collapsed": false
   },
   "outputs": [
    {
     "name": "stdout",
     "output_type": "stream",
     "text": [
      "DataDoc(tag='POSITIVE', words=['i', 'love', 'pizza'])\n",
      "DataDoc(tag='POSITIVE', words=['i', 'like', 'apple'])\n",
      "DataDoc(tag='POSITIVE', words=['i', 'enjoy', 'hiking'])\n",
      "DataDoc(tag='POSITIVE', words=['i', 'am', 'passionate', 'about', 'traveling'])\n",
      "DataDoc(tag='POSITIVE', words=['we', 'had', 'fun', 'writing', 'this', 'code'])\n",
      "DataDoc(tag='NEGATIVE', words=['i', \"don't\", 'like', 'to', 'stay', 'up', 'late'])\n",
      "DataDoc(tag='NEGATIVE', words=['i', 'am', 'tired'])\n",
      "DataDoc(tag='NEGATIVE', words=['he', 'feels', 'sick'])\n"
     ]
    }
   ],
   "source": [
    "# namedtuple(): factory function for creating tuple subclasses with named fields\n",
    "# Named tuples assign a name to each position in a tuple, thus enabling accessing\n",
    "# fields by name instead of position index.\n",
    "#-----------------------------------------------\n",
    "# namedtuple(typename, field_names[, verbose=False][, rename=False])\n",
    "# Returns a new tuple subclass named typename. \n",
    "# The new subclass is used to create tuple-like objects that have fields accessible \n",
    "# by attribute lookup as well as being indexable and iterable. \n",
    "\n",
    "from collections import namedtuple\n",
    "# We create a named tuple with two fields, tags and words.\n",
    "# tags will be a string\n",
    "# words will be a list of words\n",
    "DataDoc= namedtuple('DataDoc', 'tag words')\n",
    "# we create a list and each item in the list will be a namedtuple element with the two fields \"tags\" and \"words\"\n",
    "my_data=[]\n",
    "# We have a list of document. Each document has a single sentence. \n",
    "# The first word in each sentence/document is a tag from the set {POSITIVE, NEGATIVE}, so a sentiment analysis task. \n",
    "documents = [\"POSITIVE I love pizza\", \"POSITIVE I like Apple\", \"POSITIVE I enjoy hiking\",\\\n",
    "             \"POSITIVE I am passionate about traveling\", \"POSITIVE We had fun writing this code\",\\\n",
    "            \"NEGATIVE I don't like to stay up late\", \"NEGATIVE I am tired\", \"NEGATIVE He feels sick\"]\n",
    "\n",
    "# Now we loop over the documents and populate the list of allsent, which is basically our container for the \n",
    "# instances and their labels. From each document/sentence, we get the tag and the list of words\n",
    "for line_no, doc in enumerate(documents):\n",
    "    label=doc.split()[0]\n",
    "    word_list=doc.lower().split()[1:]\n",
    "    my_data.append(DataDoc(label, word_list))\n",
    "    print my_data[line_no]\n"
   ]
  },
  {
   "cell_type": "code",
   "execution_count": 49,
   "metadata": {
    "collapsed": false
   },
   "outputs": [
    {
     "name": "stdout",
     "output_type": "stream",
     "text": [
      "[DataDoc(tag='POSITIVE', words=['i', 'love', 'pizza']), DataDoc(tag='POSITIVE', words=['i', 'like', 'apple']), DataDoc(tag='POSITIVE', words=['i', 'enjoy', 'hiking']), DataDoc(tag='POSITIVE', words=['i', 'am', 'passionate', 'about', 'traveling']), DataDoc(tag='POSITIVE', words=['we', 'had', 'fun', 'writing', 'this', 'code']), DataDoc(tag='NEGATIVE', words=['i', \"don't\", 'like', 'to', 'stay', 'up', 'late']), DataDoc(tag='NEGATIVE', words=['i', 'am', 'tired']), DataDoc(tag='NEGATIVE', words=['he', 'feels', 'sick'])]\n"
     ]
    }
   ],
   "source": [
    "print my_data"
   ]
  },
  {
   "cell_type": "code",
   "execution_count": 50,
   "metadata": {
    "collapsed": false
   },
   "outputs": [
    {
     "name": "stdout",
     "output_type": "stream",
     "text": [
      "POSITIVE\n"
     ]
    }
   ],
   "source": [
    "# Now you can access the tag of each instance\n",
    "print my_data[0].tag"
   ]
  },
  {
   "cell_type": "code",
   "execution_count": 52,
   "metadata": {
    "collapsed": false
   },
   "outputs": [
    {
     "name": "stdout",
     "output_type": "stream",
     "text": [
      "['i', 'love', 'pizza']\n"
     ]
    }
   ],
   "source": [
    "# You can also access the instance word list itself\n",
    "print my_data[0].words"
   ]
  }
 ],
 "metadata": {
  "kernelspec": {
   "display_name": "Python 2",
   "language": "python",
   "name": "python2"
  },
  "language_info": {
   "codemirror_mode": {
    "name": "ipython",
    "version": 2
   },
   "file_extension": ".py",
   "mimetype": "text/x-python",
   "name": "python",
   "nbconvert_exporter": "python",
   "pygments_lexer": "ipython2",
   "version": "2.7.10"
  }
 },
 "nbformat": 4,
 "nbformat_minor": 0
}
